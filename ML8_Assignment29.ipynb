{
 "cells": [
  {
   "cell_type": "code",
   "execution_count": 1,
   "metadata": {
    "ExecuteTime": {
     "end_time": "2018-08-24T12:09:46.077251Z",
     "start_time": "2018-08-24T12:09:46.071281Z"
    }
   },
   "outputs": [],
   "source": [
    "# In this assignment students have to find the frequency of words in a webpage. User can use urllib and BeautifulSoup to extract \n",
    "# text from webpage.\n",
    "\n",
    "# Hint:\n",
    "#     from bs4 import BeautifulSoup\n",
    "#     import urllib.request\n",
    "#     import nltk\n",
    "#     response = urllib.request.urlopen('http://php.net/')\n",
    "#     html = response.read()\n",
    "#     soup = BeautifulSoup(html,\"html5lib\")"
   ]
  },
  {
   "cell_type": "markdown",
   "metadata": {},
   "source": [
    "# Import Required Libraries"
   ]
  },
  {
   "cell_type": "code",
   "execution_count": 2,
   "metadata": {
    "ExecuteTime": {
     "end_time": "2018-08-24T12:09:48.363960Z",
     "start_time": "2018-08-24T12:09:46.081318Z"
    }
   },
   "outputs": [],
   "source": [
    "from bs4 import BeautifulSoup\n",
    "import urllib.request\n",
    "import string\n",
    "from collections import Counter"
   ]
  },
  {
   "cell_type": "markdown",
   "metadata": {
    "ExecuteTime": {
     "end_time": "2018-08-24T12:14:11.810575Z",
     "start_time": "2018-08-24T12:14:11.805794Z"
    }
   },
   "source": [
    "**Get Raw Text**"
   ]
  },
  {
   "cell_type": "code",
   "execution_count": 4,
   "metadata": {
    "ExecuteTime": {
     "end_time": "2018-08-24T12:09:48.363960Z",
     "start_time": "2018-08-24T12:09:46.081318Z"
    }
   },
   "outputs": [],
   "source": [
    "response = urllib.request.urlopen('http://php.net/')\n",
    "html_data = response.read()\n",
    "#print(html)\n",
    "soup = BeautifulSoup(html_data,\"html5lib\")"
   ]
  },
  {
   "cell_type": "code",
   "execution_count": 5,
   "metadata": {
    "ExecuteTime": {
     "end_time": "2018-08-24T12:09:48.407257Z",
     "start_time": "2018-08-24T12:09:48.368889Z"
    }
   },
   "outputs": [
    {
     "name": "stdout",
     "output_type": "stream",
     "text": [
      "24017\n"
     ]
    },
    {
     "data": {
      "text/plain": [
       "\"\\n\\n  \\n   \\n\\n  PHP: Hypertext Preprocessor\\n\\n \\n \\n \\n \\n\\n \\n \\n \\n\\n\\n\\n\\n\\n\\n\\n\\n\\n \\n\\n \\n\\n \\n\\n \\n\\n \\n\\n\\n\\n\\n\\n  \\n    \\n    \\n    \\n    \\n      Downloads\\n      Documentation\\n      Get Involved\\n      Help\\n    \\n    \\n      \\n      \\n    \\n  \\n  \\n\\n\\nGetting Started\\n\\tIntroduction\\n\\tA simple tutorial\\nLanguage Reference\\n\\tBasic syntax\\n\\tTypes\\n\\tVariables\\n\\tConstants\\n\\tExpressions\\n\\tOperators\\n\\tControl Structures\\n\\tFunctions\\n\\tClasses and Objects\\n\\tNamespaces\\n\\tErrors\\n\\tExceptions\\n\\tGenerators\\n\\tReferences Explained\\n\\tPredefined Variables\\n\\tPredefined Exceptions\\n\\tPredefined Interfaces and Classes\\n\\tContext options and parameters\\n\\tSupported Protocols and Wrappers\\n\\n\\nSecurity\\n\\tIntroduction\\n\\tGeneral considerations\\n\\tInstalled as CGI binary\\n\\tInstalled as an Apache module\\n\\tSession Security\\n\\tFilesystem Security\\n\\tDatabase Security\\n\\tError Reporting\\n\\tUsing Register Globals\\n\\tUser Submitted Data\\n\\tMagic Quotes\\n\\tHiding PHP\\n\\tKeeping Current\\nFeatures\\n\\tHTTP authentication with PHP\\n\\tCookies\\n\\tSessions\\n\\tDealing with XForms\\n\\tHandling file uploads\\n\\tUsing remote files\\n\\tConnection handling\\n\\tPersistent Database Connections\\n\\tSafe Mode\\n\\tCommand line usage\\n\\tGarbage Collection\\n\\tDTrace Dynamic Tracing\\n\\n\\nFunction Reference\\n\\tAffecting PHP's Behaviour\\n\\tAudio Formats Manipulation\\n\\tAuthentication Services\\n\\tCommand Line Specific Extensions\\n\\tCompression and Archive Extensions\\n\\tCredit Card Processing\\n\\tCryptography Extensions\\n\\tDatabase Extensions\\n\\tDate and Time Related Extensions\\n\\tFile System Related Extensions\\n\\tHuman Language and Character Encoding Support\\n\\tImage Processing \""
      ]
     },
     "execution_count": 5,
     "metadata": {},
     "output_type": "execute_result"
    }
   ],
   "source": [
    "text = soup.getText()\n",
    "print(len(text))\n",
    "text[:1500]"
   ]
  },
  {
   "cell_type": "markdown",
   "metadata": {},
   "source": [
    "**Cleaning the Text**"
   ]
  },
  {
   "cell_type": "code",
   "execution_count": 6,
   "metadata": {
    "ExecuteTime": {
     "end_time": "2018-08-24T17:19:55.429720Z",
     "start_time": "2018-08-24T17:19:55.410770Z"
    }
   },
   "outputs": [
    {
     "name": "stdout",
     "output_type": "stream",
     "text": [
      "24017\n"
     ]
    },
    {
     "data": {
      "text/plain": [
       "\"\\n\\n  \\n   \\n\\n  PHP: Hypertext Preprocessor\\n\\n \\n \\n \\n \\n\\n \\n \\n \\n\\n\\n\\n\\n\\n\\n\\n\\n\\n \\n\\n \\n\\n \\n\\n \\n\\n \\n\\n\\n\\n\\n\\n  \\n    \\n    \\n    \\n    \\n      Downloads\\n      Documentation\\n      Get Involved\\n      Help\\n    \\n    \\n      \\n      \\n    \\n  \\n  \\n\\n\\nGetting Started\\n\\tIntroduction\\n\\tA simple tutorial\\nLanguage Reference\\n\\tBasic syntax\\n\\tTypes\\n\\tVariables\\n\\tConstants\\n\\tExpressions\\n\\tOperators\\n\\tControl Structures\\n\\tFunctions\\n\\tClasses and Objects\\n\\tNamespaces\\n\\tErrors\\n\\tExceptions\\n\\tGenerators\\n\\tReferences Explained\\n\\tPredefined Variables\\n\\tPredefined Exceptions\\n\\tPredefined Interfaces and Classes\\n\\tContext options and parameters\\n\\tSupported Protocols and Wrappers\\n\\n\\nSecurity\\n\\tIntroduction\\n\\tGeneral considerations\\n\\tInstalled as CGI binary\\n\\tInstalled as an Apache module\\n\\tSession Security\\n\\tFilesystem Security\\n\\tDatabase Security\\n\\tError Reporting\\n\\tUsing Register Globals\\n\\tUser Submitted Data\\n\\tMagic Quotes\\n\\tHiding PHP\\n\\tKeeping Current\\nFeatures\\n\\tHTTP authentication with PHP\\n\\tCookies\\n\\tSessions\\n\\tDealing with XForms\\n\\tHandling file uploads\\n\\tUsing remote files\\n\\tConnection handling\\n\\tPersistent Database Connections\\n\\tSafe Mode\\n\\tCommand line usage\\n\\tGarbage Collection\\n\\tDTrace Dynamic Tracing\\n\\n\\nFunction Reference\\n\\tAffecting PHP's Behaviour\\n\\tAudio Formats Manipulation\\n\\tAuthentication Services\\n\\tCommand Line Specific Extensions\\n\\tCompression and Archive Extensions\\n\\tCredit Card Processing\\n\\tCryptography Extensions\\n\\tDatabase Extensions\\n\\tDate and Time Related Extensions\\n\\tFile System Related Extensions\\n\\tHuman Language and Character Encoding Support\\n\\tImage Processing and Generation\\n\\tMail Related Extensions\\n\\tMathematical Extensions\\n\\tNon-Text MIME Output\\n\\tProcess Control Extensions\\n\\tOther Basic Extensions\\n\\tOther Services\\n\\tSearch Engine Extensions\\n\\tServer Specific Extensions\\n\\tSession Extensions\\n\\tText Processing\\n\\tVariable and Type Related Extensions\\n\\tWeb Services\\n\\tWindows Only Extensions\\n\\tXML Manipulation\\n\\tGUI Extensions\\n\\n\\nKeyboard Shortcuts?\\nThis help\\nj\\nNext menu item\\nk\\nPrevious menu item\\ng p\\nPrevious man page\\ng n\\nNext man page\\nG\\nScroll to bottom\\ng g\\nScroll to top\\ng h\\nGoto homepage\\ng s\\nGoto search(current page)\\n/\\nFocus search box\\n\\n\\n    \\n         \\n         \\n   \\n\\n\\n\\n\\n\\n  \\n      \\n    \\n      PHP is a popular general-purpose scripting language that is especially suited to web development.\\n      Fast, flexible and pragmatic, PHP powers everything from your blog to the most popular websites in the world.\\n    \\n    \\n      Download\\n\\n            5.6.38·Release Notes·Upgrading\\n\\n            7.0.32·Release Notes·Upgrading\\n\\n            7.1.23·Release Notes·Upgrading\\n\\n            7.2.11·Release Notes·Upgrading\\n\\n    \\n    \\n\\n\\n\\n\\n  \\n\\n  \\n    11 Oct 2018\\n    \\n      PHP 7.1.23 Released\\n    \\n  \\n  \\n    \\n     The PHP development team announces the immediate availability of PHP 7.1.23.\\n     This is a bugfix release.\\n     \\n     All PHP 7.1 users are encouraged to upgrade to this version.\\n     \\n     For source downloads of PHP 7.1.23 please visit our downloads page,\\n     Windows source and binaries can be found on windows.php.net/download/.\\n     The list of changes is recorded in the ChangeLog.\\n     \\n    \\n  \\n  \\n\\n  \\n    11 Oct 2018\\n    \\n      PHP 7.2.11 Released\\n    \\n  \\n  \\n    \\n     The PHP development team announces the immediate availability of PHP 7.2.11.\\n     This is a bugfix release.\\n     \\n     All PHP 7.2 users are encouraged to upgrade to this version.\\n     \\n     For source downloads of PHP 7.2.11 please visit our downloads page,\\n     Windows source and binaries can be found on windows.php.net/download/.\\n     The list of changes is recorded in the ChangeLog.\\n     \\n    \\n  \\n  \\n\\n  \\n    11 Oct 2018\\n    \\n      PHP 7.3.0RC3 Released\\n    \\n  \\n  \\n    \\n      \\n        The PHP team is glad to announce the next PHP 7.3.0 pre-release, PHP 7.3.0RC3.\\n        The rough outline of the PHP 7.3 release cycle is specified in the\\n        PHP Wiki.\\n      \\n\\n      \\n        For source downloads of PHP 7.3.0RC3 please visit the download page.\\n        Windows sources and binaries can be found on windows.php.net/qa/.\\n      \\n\\n      \\n        Please carefully test this version and report any issues found in the bug reporting system.\\n      \\n\\n      \\n        THIS IS A DEVELOPMENT PREVIEW - DO NOT USE IT IN PRODUCTION!\\n      \\n\\n      \\n        For more information on the new features and other changes, you can read the\\n        NEWS file,\\n        or the UPGRADING\\n        file for a complete list of upgrading notes. Internal changes are listed in the\\n        UPGRADING.INTERNALS file.\\n        These files can also be found in the release archive.\\n      \\n\\n      \\n        The next release would be RC4, planned for October 25th.\\n      \\n\\n      \\n        The signatures for the release can be found in the manifest\\n        or on the QA site.\\n      \\n\\n      \\n        Thank you for helping us make PHP better.\\n      \\n    \\n  \\n  \\n\\n  \\n    28 Sep 2018\\n    \\n      PHP 7.3.0RC2 Released\\n    \\n  \\n  \\n    \\n      \\n        The PHP team is glad to announce the next PHP 7.3.0 pre-release, PHP 7.3.0RC2.\\n        The rough outline of the PHP 7.3 release cycle is specified in the\\n        PHP Wiki.\\n      \\n\\n      \\n        For source downloads of PHP 7.3.0RC2 please visit the download page.\\n        Windows sources and binaries can be found on windows.php.net/qa/.\\n      \\n\\n      \\n        Please carefully test this version and report any issues found in the bug reporting system.\\n      \\n\\n      \\n        THIS IS A DEVELOPMENT PREVIEW - DO NOT USE IT IN PRODUCTION!\\n      \\n\\n      \\n        For more information on the new features and other changes, you can read the\\n        NEWS file,\\n        or the UPGRADING\\n        file for a complete list of upgrading notes. Internal changes are listed in the\\n        UPGRADING.INTERNALS file.\\n        These files can also be found in the release archive.\\n      \\n\\n      \\n        The next release would be RC3, planned for October 11th.\\n      \\n\\n      \\n        The signatures for the release can be found in the manifest\\n        or on the QA site.\\n      \\n\\n      \\n        Thank you for helping us make PHP better.\\n      \\n    \\n  \\n  \\n\\n  \\n    13 Sep 2018\\n    \\n      PHP 5.6.38 Released\\n    \\n  \\n  \\n    \\n     The PHP development team announces the immediate availability of PHP\\n        5.6.38. This is a security release. One security bug has been fixed\\n        in this release.\\n\\n     All PHP 5.6 users are encouraged to upgrade to this version.\\n\\n     For source downloads of PHP 5.6.38 please visit our downloads page,\\n     Windows source and binaries can be found on windows.php.net/download/.\\n     The list of changes is recorded in the ChangeLog.\\n     \\n    \\n  \\n  \\n\\n  \\n    13 Sep 2018\\n    \\n      PHP 7.1.22 Released\\n    \\n  \\n  \\n    \\n     The PHP development team announces the immediate availability of PHP \\n     7.1.22. This is a security release. One security bug has been fixed\\n     in this release.\\n    \\n     All PHP 7.1 users are encouraged to upgrade to this version.\\n\\n     For source downloads of PHP 7.1.22 please visit our downloads page,\\n     Windows source and binaries can be found on windows.php.net/download/.\\n     The list of changes is recorded in the ChangeLog.\\n     \\n\\n    \\n  \\n  \\n\\n  \\n    13 Sep 2018\\n    \\n      PHP 7.0.32 Released\\n    \\n  \\n  \\n    \\n     The PHP development team announces the immediate availability of PHP\\n\\t7.0.32. This is a security release. One security bug has been fixed\\n\\tin this release.\\n     \\n     All PHP 7.0 users are encouraged to upgrade to this version.\\n\\n     For source downloads of PHP 7.0.32 please visit our downloads page,\\n     Windows source and binaries can be found on windows.php.net/download/.\\n     The list of changes is recorded in the ChangeLog.\\n     \\n    \\n  \\n  \\n\\n  \\n    13 Sep 2018\\n    \\n      PHP 7.3.0RC1 Released\\n    \\n  \\n  \\n    \\n      \\n        The PHP team is glad to announce the release of the next PHP 7.3.0 pre-release, PHP 7.3.0RC1.\\n        The rough outline of the PHP 7.3 release cycle is specified in the\\n        PHP Wiki.\\n      \\n\\n      \\n        For source downloads of PHP 7.3.0RC1 please visit the download page.\\n        Windows sources and binaries can be found on windows.php.net/qa/.\\n      \\n\\n      \\n        Please carefully test this version and report any issues found in the bug reporting system.\\n      \\n\\n      \\n        THIS IS A DEVELOPMENT PREVIEW - DO NOT USE IT IN PRODUCTION!\\n      \\n\\n      \\n        For more information on the new features and other changes, you can read the\\n        NEWS file,\\n        or the UPGRADING\\n        file for a complete list of upgrading notes. Internal changes are listed in the\\n        UPGRADING.INTERNALS file.\\n        These files can also be found in the release archive.\\n      \\n\\n      \\n        The next release would be RC2, planned for September 27th.\\n      \\n\\n      \\n        The signatures for the release can be found in the manifest\\n        or on the QA site.\\n      \\n\\n      \\n        Thank you for helping us make PHP better.\\n      \\n    \\n  \\n  \\n\\n  \\n    13 Sep 2018\\n    \\n      PHP 7.2.10 Released\\n    \\n  \\n  \\n    \\n     The PHP development team announces the immediate availability of PHP\\n     7.2.10. This is a security release which also contains several minor bug fixes.\\n     \\n     All PHP 7.2 users are encouraged to upgrade to this version.\\n\\n     For source downloads of PHP 7.2.10 please visit our downloads page,\\n     Windows source and binaries can be found on windows.php.net/download/.\\n     The list of changes is recorded in the ChangeLog.\\n     \\n    \\n  \\n  \\n\\n  \\n    30 Aug 2018\\n    \\n      PHP 7.3.0.beta3 Released\\n    \\n  \\n  \\n    \\n      \\n        The PHP team is glad to announce the release of the seventh PHP 7.3.0 version, PHP 7.3.0beta3.\\n        The rough outline of the PHP 7.3 release cycle is specified in the\\n        PHP Wiki.\\n      \\n\\n      \\n        For source downloads of PHP 7.3.0beta3 please visit the download page.\\n        Windows sources and binaries can be found on windows.php.net/qa/.\\n      \\n\\n      \\n        Please carefully test this version and report any issues found in the bug reporting system.\\n      \\n\\n      \\n        THIS IS A DEVELOPMENT PREVIEW - DO NOT USE IT IN PRODUCTION!\\n      \\n\\n      \\n        For more information on the n\""
      ]
     },
     "execution_count": 6,
     "metadata": {},
     "output_type": "execute_result"
    }
   ],
   "source": [
    "# Replace bullet points with space  \n",
    "\n",
    "text_replaced = text.replace(u\"\\u2022\",\" \")\n",
    "print(len(text_replaced))\n",
    "text_replaced[:10000]"
   ]
  },
  {
   "cell_type": "code",
   "execution_count": 8,
   "metadata": {
    "ExecuteTime": {
     "end_time": "2018-08-24T12:10:50.526953Z",
     "start_time": "2018-08-24T12:10:50.513937Z"
    }
   },
   "outputs": [
    {
     "name": "stdout",
     "output_type": "stream",
     "text": [
      "!\"#$%&'()*+,-./:;<=>?@[\\]^_`{|}~\n",
      "32\n",
      "24017\n"
     ]
    },
    {
     "data": {
      "text/plain": [
       "'\\n\\n  \\n   \\n\\n  PHP  Hypertext Preprocessor\\n\\n \\n \\n \\n \\n\\n \\n \\n \\n\\n\\n\\n\\n\\n\\n\\n\\n\\n \\n\\n \\n\\n \\n\\n \\n\\n \\n\\n\\n\\n\\n\\n  \\n    \\n    \\n    \\n    \\n      Downloads\\n      Documentation\\n      Get Involved\\n      Help\\n    \\n    \\n      \\n      \\n    \\n  \\n  \\n\\n\\nGetting Started\\n\\tIntroduction\\n\\tA simple tutorial\\nLanguage Reference\\n\\tBasic syntax\\n\\tTypes\\n\\tVariables\\n\\tConstants\\n\\tExpressions\\n\\tOperators\\n\\tControl Structures\\n\\tFunctions\\n\\tClasses and Objects\\n\\tNamespaces\\n\\tErrors\\n\\tExceptions\\n\\tGenerators\\n\\tReferences Explained\\n\\tPredefined Variables\\n\\tPredefined Exceptions\\n\\tPredefined Interfaces and Classes\\n\\tContext options and parameters\\n\\tSupported Protocols and Wrappers\\n\\n\\nSecurity\\n\\tIntroduction\\n\\tGeneral considerations\\n\\tInstalled as CGI binary\\n\\tInstalled as an Apache module\\n\\tSession Security\\n\\tFilesystem Security\\n\\tDatabase Security\\n\\tError Reporting\\n\\tUsing Register Globals\\n\\tUser Submitted Data\\n\\tMagic Quotes\\n\\tHiding PHP\\n\\tKeeping Current\\nFeatures\\n\\tHTTP authentication with PHP\\n\\tCookies\\n\\tSessions\\n\\tDealing with XForms\\n\\tHandling file uploads\\n\\tUsing remote files\\n\\tConnection handling\\n\\tPersistent Database Connections\\n\\tSafe Mode\\n\\tCommand line usage\\n\\tGarbage Collection\\n\\tDTrace Dynamic Tracing\\n\\n\\nFunction Reference\\n\\tAffecting PHP s Behaviour\\n\\tAudio Formats Manipulation\\n\\tAuthentication Services\\n\\tCommand Line Specific Extensions\\n\\tCompression and Archive Extensions\\n\\tCredit Card Processing\\n\\tCryptography Extensions\\n\\tDatabase Extensions\\n\\tDate and Time Related Extensions\\n\\tFile System Related Extensions\\n\\tHuman Language and Character Encoding Support\\n\\tImage Processing and Generation\\n\\tMail Related Extensions\\n\\tMathematical Extensions\\n\\tNon Text MIME Output\\n\\tProcess Control Extensions\\n\\tOther Basic Extensions\\n\\tOther Services\\n\\tSearch Engine Extensions\\n\\tServer Specific Extensions\\n\\tSession Extensions\\n\\tText Processing\\n\\tVariable and Type Related Extensions\\n\\tWeb Services\\n\\tWindows Only Extensions\\n\\tXML Manipulation\\n\\tGUI Extensions\\n\\n\\nKeyboard Shortcuts \\nThis help\\nj\\nNext menu item\\nk\\nPrevious menu item\\ng p\\nPrevious man page\\ng n\\nNext man page\\nG\\nScroll to bottom\\ng g\\nScroll to top\\ng h\\nGoto homepage\\ng s\\nGoto search current page \\n \\nFocus search box\\n\\n\\n    \\n         \\n         \\n   \\n\\n\\n\\n\\n\\n  \\n      \\n    \\n      PHP is a popular general purpose scripting language that is especially suited to web development \\n      Fast  flexible and pragmatic  PHP powers everything from your blog to the most popular websites in the world \\n    \\n    \\n      Download\\n\\n            5 6 38·Release Notes·Upgrading\\n\\n            7 0 32·Release Notes·Upgrading\\n\\n            7 1 23·Release Notes·Upgrading\\n\\n            7 2 11·Release Notes·Upgrading\\n\\n    \\n    \\n\\n\\n\\n\\n  \\n\\n  \\n    11 Oct 2018\\n    \\n      PHP 7 1 23 Released\\n    \\n  \\n  \\n    \\n     The PHP development team announces the immediate availability of PHP 7 1 23 \\n     This is a bugfix release \\n     \\n     All PHP 7 1 users are encouraged to upgrade to this version \\n     \\n     For source downloads of PHP 7 1 23 please visit our downloads page \\n     Windows source and binaries can be found on windows php net download  \\n     The list of changes is recorded in the ChangeLog \\n     \\n    \\n  \\n  \\n\\n  \\n    11 Oct 2018\\n    \\n      PHP 7 2 11 Released\\n    \\n  \\n  \\n    \\n     The PHP development team announces the immediate availability of PHP 7 2 11 \\n     This is a bugfix release \\n     \\n     All PHP 7 2 users are encouraged to upgrade to this version \\n     \\n     For source downloads of PHP 7 2 11 please visit our downloads page \\n     Windows source and binaries can be found on windows php net download  \\n     The list of changes is recorded in the ChangeLog \\n     \\n    \\n  \\n  \\n\\n  \\n    11 Oct 2018\\n    \\n      PHP 7 3 0RC3 Released\\n    \\n  \\n  \\n    \\n      \\n        The PHP team is glad to announce the next PHP 7 3 0 pre release  PHP 7 3 0RC3 \\n        The rough outline of the PHP 7 3 release cycle is specified in the\\n        PHP Wiki \\n      \\n\\n      \\n        For source downloads of PHP 7 3 0RC3 please visit the download page \\n        Windows sources and binaries can be found on windows php net qa  \\n      \\n\\n      \\n        Please carefully test this version and report any issues found in the bug reporting system \\n      \\n\\n      \\n        THIS IS A DEVELOPMENT PREVIEW   DO NOT USE IT IN PRODUCTION \\n      \\n\\n      \\n        For more information on the new features and other changes  you can read the\\n        NEWS file \\n        or the UPGRADING\\n        file for a complete list of upgrading notes  Internal changes are listed in the\\n        UPGRADING INTERNALS file \\n        These files can also be found in the release archive \\n      \\n\\n      \\n        The next release would be RC4  planned for October 25th \\n      \\n\\n      \\n        The signatures for the release can be found in the manifest\\n        or on the QA site \\n      \\n\\n      \\n        Thank you for helping us make PHP better \\n      \\n    \\n  \\n  \\n\\n  \\n    28 Sep 2018\\n    \\n      PHP 7 3 0RC2 Released\\n    \\n  \\n  \\n    \\n      \\n        The PHP team is glad to announce the next PHP 7 3 0 pre release  PHP 7 3 0RC2 \\n        The rough outline of the PHP 7 3 release cycle is specified in the\\n        PHP Wiki \\n      \\n\\n      \\n        For source downloads of PHP 7 3 0RC2 please visit the download page \\n        Windows sources and binaries can be found on windows php net qa  \\n      \\n\\n      \\n        Please carefully test this version and report any issues found in the bug reporting system \\n      \\n\\n      \\n        THIS IS A DEVELOPMENT PREVIEW   DO NOT USE IT IN PRODUCTION \\n      \\n\\n      \\n        For more information on the new features and other changes  you can read the\\n        NEWS file \\n        or the UPGRADING\\n        file for a complete list of upgrading notes  Internal changes are listed in the\\n        UPGRADING INTERNALS file \\n        These files can also be found in the release archive \\n      \\n\\n      \\n        The next release would be RC3  planned for October 11th \\n      \\n\\n      \\n        The signatures for the release can be found in the manifest\\n        or on the QA site \\n      \\n\\n      \\n        Thank you for helping us make PHP better \\n      \\n    \\n  \\n  \\n\\n  \\n    13 Sep 2018\\n    \\n      PHP 5 6 38 Released\\n    \\n  \\n  \\n    \\n     The PHP development team announces the immediate availability of PHP\\n        5 6 38  This is a security release  One security bug has been fixed\\n        in this release \\n\\n     All PHP 5 6 users are encouraged to upgrade to this version \\n\\n     For source downloads of PHP 5 6 38 please visit our downloads page \\n     Windows source and binaries can be found on windows php net download  \\n     The list of changes is recorded in the ChangeLog \\n     \\n    \\n  \\n  \\n\\n  \\n    13 Sep 2018\\n    \\n      PHP 7 1 22 Released\\n    \\n  \\n  \\n    \\n     The PHP development team announces the immediate availability of PHP \\n     7 1 22  This is a security release  One security bug has been fixed\\n     in this release \\n    \\n     All PHP 7 1 users are encouraged to upgrade to this version \\n\\n     For source downloads of PHP 7 1 22 please visit our downloads page \\n     Windows source and binaries can be found on windows php net download  \\n     The list of changes is recorded in the ChangeLog \\n     \\n\\n    \\n  \\n  \\n\\n  \\n    13 Sep 2018\\n    \\n      PHP 7 0 32 Released\\n    \\n  \\n  \\n    \\n     The PHP development team announces the immediate availability of PHP\\n\\t7 0 32  This is a security release  One security bug has been fixed\\n\\tin this release \\n     \\n     All PHP 7 0 users are encouraged to upgrade to this version \\n\\n     For source downloads of PHP 7 0 32 please visit our downloads page \\n     Windows source and binaries can be found on windows php net download  \\n     The list of changes is recorded in the ChangeLog \\n     \\n    \\n  \\n  \\n\\n  \\n    13 Sep 2018\\n    \\n      PHP 7 3 0RC1 Released\\n    \\n  \\n  \\n    \\n      \\n        The PHP team is glad to announce the release of the next PHP 7 3 0 pre release  PHP 7 3 0RC1 \\n        The rough outline of the PHP 7 3 release cycle is specified in the\\n        PHP Wiki \\n      \\n\\n      \\n        For source downloads of PHP 7 3 0RC1 please visit the download page \\n        Windows sources and binaries can be found on windows php net qa  \\n      \\n\\n      \\n        Please carefully test this version and report any issues found in the bug reporting system \\n      \\n\\n      \\n        THIS IS A DEVELOPMENT PREVIEW   DO NOT USE IT IN PRODUCTION \\n      \\n\\n      \\n        For more information on the new features and other changes  you can read the\\n        NEWS file \\n        or the UPGRADING\\n        file for a complete list of upgrading notes  Internal changes are listed in the\\n        UPGRADING INTERNALS file \\n        These files can also be found in the release archive \\n      \\n\\n      \\n        The next release would be RC2  planned for September 27th \\n      \\n\\n      \\n        The signatures for the release can be found in the manifest\\n        or on the QA site \\n      \\n\\n      \\n        Thank you for helping us make PHP better \\n      \\n    \\n  \\n  \\n\\n  \\n    13 Sep 2018\\n    \\n      PHP 7 2 10 Released\\n    \\n  \\n  \\n    \\n     The PHP development team announces the immediate availability of PHP\\n     7 2 10  This is a security release which also contains several minor bug fixes \\n     \\n     All PHP 7 2 users are encouraged to upgrade to this version \\n\\n     For source downloads of PHP 7 2 10 please visit our downloads page \\n     Windows source and binaries can be found on windows php net download  \\n     The list of changes is recorded in the ChangeLog \\n     \\n    \\n  \\n  \\n\\n  \\n    30 Aug 2018\\n    \\n      PHP 7 3 0 beta3 Released\\n    \\n  \\n  \\n    \\n      \\n        The PHP team is glad to announce the release of the seventh PHP 7 3 0 version  PHP 7 3 0beta3 \\n        The rough outline of the PHP 7 3 release cycle is specified in the\\n        PHP Wiki \\n      \\n\\n      \\n        For source downloads of PHP 7 3 0beta3 please visit the download page \\n        Windows sources and binaries can be found on windows php net qa  \\n      \\n\\n      \\n        Please carefully test this version and report any issues found in the bug reporting system \\n      \\n\\n      \\n        THIS IS A DEVELOPMENT PREVIEW   DO NOT USE IT IN PRODUCTION \\n      \\n\\n      \\n        For more information on the n'"
      ]
     },
     "execution_count": 8,
     "metadata": {},
     "output_type": "execute_result"
    }
   ],
   "source": [
    "# Replace punctuations marks in the text with space  \n",
    "\n",
    "punctuation_marks = string.punctuation\n",
    "print(punctuation_marks)\n",
    "print(len(punctuation_marks))\n",
    "\n",
    "text_without_punctuations = text_replaced.translate(str.maketrans(punctuation_marks,\" \"*len(punctuation_marks)))\n",
    "print(len(text_without_punctuations))\n",
    "text_without_punctuations[:10000]                                  "
   ]
  },
  {
   "cell_type": "code",
   "execution_count": 9,
   "metadata": {
    "ExecuteTime": {
     "end_time": "2018-08-24T12:10:57.763293Z",
     "start_time": "2018-08-24T12:10:57.745360Z"
    }
   },
   "outputs": [
    {
     "name": "stdout",
     "output_type": "stream",
     "text": [
      "24017\n"
     ]
    },
    {
     "data": {
      "text/plain": [
       "'\\n\\n  \\n   \\n\\n  PHP  Hypertext Preprocessor\\n\\n \\n \\n \\n \\n\\n \\n \\n \\n\\n\\n\\n\\n\\n\\n\\n\\n\\n \\n\\n \\n\\n \\n\\n \\n\\n \\n\\n\\n\\n\\n\\n  \\n    \\n    \\n    \\n    \\n      Downloads\\n      Documentation\\n      Get Involved\\n      Help\\n    \\n    \\n      \\n      \\n    \\n  \\n  \\n\\n\\nGetting Started\\n\\tIntroduction\\n\\tA simple tutorial\\nLanguage Reference\\n\\tBasic syntax\\n\\tTypes\\n\\tVariables\\n\\tConstants\\n\\tExpressions\\n\\tOperators\\n\\tControl Structures\\n\\tFunctions\\n\\tClasses and Objects\\n\\tNamespaces\\n\\tErrors\\n\\tExceptions\\n\\tGenerators\\n\\tReferences Explained\\n\\tPredefined Variables\\n\\tPredefined Exceptions\\n\\tPredefined Interfaces and Classes\\n\\tContext options and parameters\\n\\tSupported Protocols and Wrappers\\n\\n\\nSecurity\\n\\tIntroduction\\n\\tGeneral considerations\\n\\tInstalled as CGI binary\\n\\tInstalled as an Apache module\\n\\tSession Security\\n\\tFilesystem Security\\n\\tDatabase Security\\n\\tError Reporting\\n\\tUsing Register Globals\\n\\tUser Submitted Data\\n\\tMagic Quotes\\n\\tHiding PHP\\n\\tKeeping Current\\nFeatures\\n\\tHTTP authentication with PHP\\n\\tCookies\\n\\tSessions\\n\\tDealing with XForms\\n\\tHandling file uploads\\n\\tUsing remote files\\n\\tConnection handling\\n\\tPersistent Database Connections\\n\\tSafe Mode\\n\\tCommand line usage\\n\\tGarbage Collection\\n\\tDTrace Dynamic Tracing\\n\\n\\nFunction Reference\\n\\tAffecting PHP s Behaviour\\n\\tAudio Formats Manipulation\\n\\tAuthentication Services\\n\\tCommand Line Specific Extensions\\n\\tCompression and Archive Extensions\\n\\tCredit Card Processing\\n\\tCryptography Extensions\\n\\tDatabase Extensions\\n\\tDate and Time Related Extensions\\n\\tFile System Related Extensions\\n\\tHuman Language and Character Encoding Support\\n\\tImage Processing and Generation\\n\\tMail Related Extensions\\n\\tMathematical Extensions\\n\\tNon Text MIME Output\\n\\tProcess Control Extensions\\n\\tOther Basic Extensions\\n\\tOther Services\\n\\tSearch Engine Extensions\\n\\tServer Specific Extensions\\n\\tSession Extensions\\n\\tText Processing\\n\\tVariable and Type Related Extensions\\n\\tWeb Services\\n\\tWindows Only Extensions\\n\\tXML Manipulation\\n\\tGUI Extensions\\n\\n\\nKeyboard Shortcuts \\nThis help\\nj\\nNext menu item\\nk\\nPrevious menu item\\ng p\\nPrevious man page\\ng n\\nNext man page\\nG\\nScroll to bottom\\ng g\\nScroll to top\\ng h\\nGoto homepage\\ng s\\nGoto search current page \\n \\nFocus search box\\n\\n\\n    \\n         \\n         \\n   \\n\\n\\n\\n\\n\\n  \\n      \\n    \\n      PHP is a popular general purpose scripting language that is especially suited to web development \\n      Fast  flexible and pragmatic  PHP powers everything from your blog to the most popular websites in the world \\n    \\n    \\n      Download\\n\\n                  ·Release Notes·Upgrading\\n\\n                  ·Release Notes·Upgrading\\n\\n                  ·Release Notes·Upgrading\\n\\n                  ·Release Notes·Upgrading\\n\\n    \\n    \\n\\n\\n\\n\\n  \\n\\n  \\n       Oct     \\n    \\n      PHP        Released\\n    \\n  \\n  \\n    \\n     The PHP development team announces the immediate availability of PHP        \\n     This is a bugfix release \\n     \\n     All PHP     users are encouraged to upgrade to this version \\n     \\n     For source downloads of PHP        please visit our downloads page \\n     Windows source and binaries can be found on windows php net download  \\n     The list of changes is recorded in the ChangeLog \\n     \\n    \\n  \\n  \\n\\n  \\n       Oct     \\n    \\n      PHP        Released\\n    \\n  \\n  \\n    \\n     The PHP development team announces the immediate availability of PHP        \\n     This is a bugfix release \\n     \\n     All PHP     users are encouraged to upgrade to this version \\n     \\n     For source downloads of PHP        please visit our downloads page \\n     Windows source and binaries can be found on windows php net download  \\n     The list of changes is recorded in the ChangeLog \\n     \\n    \\n  \\n  \\n\\n  \\n       Oct     \\n    \\n      PHP      RC  Released\\n    \\n  \\n  \\n    \\n      \\n        The PHP team is glad to announce the next PHP       pre release  PHP      RC  \\n        The rough outline of the PHP     release cycle is specified in the\\n        PHP Wiki \\n      \\n\\n      \\n        For source downloads of PHP      RC  please visit the download page \\n        Windows sources and binaries can be found on windows php net qa  \\n      \\n\\n      \\n        Please carefully test this version and report any issues found in the bug reporting system \\n      \\n\\n      \\n        THIS IS A DEVELOPMENT PREVIEW   DO NOT USE IT IN PRODUCTION \\n      \\n\\n      \\n        For more information on the new features and other changes  you can read the\\n        NEWS file \\n        or the UPGRADING\\n        file for a complete list of upgrading notes  Internal changes are listed in the\\n        UPGRADING INTERNALS file \\n        These files can also be found in the release archive \\n      \\n\\n      \\n        The next release would be RC   planned for October   th \\n      \\n\\n      \\n        The signatures for the release can be found in the manifest\\n        or on the QA site \\n      \\n\\n      \\n        Thank you for helping us make PHP better \\n      \\n    \\n  \\n  \\n\\n  \\n       Sep     \\n    \\n      PHP      RC  Released\\n    \\n  \\n  \\n    \\n      \\n        The PHP team is glad to announce the next PHP       pre release  PHP      RC  \\n        The rough outline of the PHP     release cycle is specified in the\\n        PHP Wiki \\n      \\n\\n      \\n        For source downloads of PHP      RC  please visit the download page \\n        Windows sources and binaries can be found on windows php net qa  \\n      \\n\\n      \\n        Please carefully test this version and report any issues found in the bug reporting system \\n      \\n\\n      \\n        THIS IS A DEVELOPMENT PREVIEW   DO NOT USE IT IN PRODUCTION \\n      \\n\\n      \\n        For more information on the new features and other changes  you can read the\\n        NEWS file \\n        or the UPGRADING\\n        file for a complete list of upgrading notes  Internal changes are listed in the\\n        UPGRADING INTERNALS file \\n        These files can also be found in the release archive \\n      \\n\\n      \\n        The next release would be RC   planned for October   th \\n      \\n\\n      \\n        The signatures for the release can be found in the manifest\\n        or on the QA site \\n      \\n\\n      \\n        Thank you for helping us make PHP better \\n      \\n    \\n  \\n  \\n\\n  \\n       Sep     \\n    \\n      PHP        Released\\n    \\n  \\n  \\n    \\n     The PHP development team announces the immediate availability of PHP\\n                This is a security release  One security bug has been fixed\\n        in this release \\n\\n     All PHP     users are encouraged to upgrade to this version \\n\\n     For source downloads of PHP        please visit our downloads page \\n     Windows source and binaries can be found on windows php net download  \\n     The list of changes is recorded in the ChangeLog \\n     \\n    \\n  \\n  \\n\\n  \\n       Sep     \\n    \\n      PHP        Released\\n    \\n  \\n  \\n    \\n     The PHP development team announces the immediate availability of PHP \\n             This is a security release  One security bug has been fixed\\n     in this release \\n    \\n     All PHP     users are encouraged to upgrade to this version \\n\\n     For source downloads of PHP        please visit our downloads page \\n     Windows source and binaries can be found on windows php net download  \\n     The list of changes is recorded in the ChangeLog \\n     \\n\\n    \\n  \\n  \\n\\n  \\n       Sep     \\n    \\n      PHP        Released\\n    \\n  \\n  \\n    \\n     The PHP development team announces the immediate availability of PHP\\n\\t        This is a security release  One security bug has been fixed\\n\\tin this release \\n     \\n     All PHP     users are encouraged to upgrade to this version \\n\\n     For source downloads of PHP        please visit our downloads page \\n     Windows source and binaries can be found on windows php net download  \\n     The list of changes is recorded in the ChangeLog \\n     \\n    \\n  \\n  \\n\\n  \\n       Sep     \\n    \\n      PHP      RC  Released\\n    \\n  \\n  \\n    \\n      \\n        The PHP team is glad to announce the release of the next PHP       pre release  PHP      RC  \\n        The rough outline of the PHP     release cycle is specified in the\\n        PHP Wiki \\n      \\n\\n      \\n        For source downloads of PHP      RC  please visit the download page \\n        Windows sources and binaries can be found on windows php net qa  \\n      \\n\\n      \\n        Please carefully test this version and report any issues found in the bug reporting system \\n      \\n\\n      \\n        THIS IS A DEVELOPMENT PREVIEW   DO NOT USE IT IN PRODUCTION \\n      \\n\\n      \\n        For more information on the new features and other changes  you can read the\\n        NEWS file \\n        or the UPGRADING\\n        file for a complete list of upgrading notes  Internal changes are listed in the\\n        UPGRADING INTERNALS file \\n        These files can also be found in the release archive \\n      \\n\\n      \\n        The next release would be RC   planned for September   th \\n      \\n\\n      \\n        The signatures for the release can be found in the manifest\\n        or on the QA site \\n      \\n\\n      \\n        Thank you for helping us make PHP better \\n      \\n    \\n  \\n  \\n\\n  \\n       Sep     \\n    \\n      PHP        Released\\n    \\n  \\n  \\n    \\n     The PHP development team announces the immediate availability of PHP\\n             This is a security release which also contains several minor bug fixes \\n     \\n     All PHP     users are encouraged to upgrade to this version \\n\\n     For source downloads of PHP        please visit our downloads page \\n     Windows source and binaries can be found on windows php net download  \\n     The list of changes is recorded in the ChangeLog \\n     \\n    \\n  \\n  \\n\\n  \\n       Aug     \\n    \\n      PHP       beta  Released\\n    \\n  \\n  \\n    \\n      \\n        The PHP team is glad to announce the release of the seventh PHP       version  PHP      beta  \\n        The rough outline of the PHP     release cycle is specified in the\\n        PHP Wiki \\n      \\n\\n      \\n        For source downloads of PHP      beta  please visit the download page \\n        Windows sources and binaries can be found on windows php net qa  \\n      \\n\\n      \\n        Please carefully test this version and report any issues found in the bug reporting system \\n      \\n\\n      \\n        THIS IS A DEVELOPMENT PREVIEW   DO NOT USE IT IN PRODUCTION \\n      \\n\\n      \\n        For more information on the n'"
      ]
     },
     "execution_count": 9,
     "metadata": {},
     "output_type": "execute_result"
    }
   ],
   "source": [
    "# Replace numberswith space  \n",
    "numbers = \"1234567890\"\n",
    "text_without_numbers = text_without_punctuations.translate(str.maketrans(numbers,\" \"*len(numbers))) \n",
    "print(len(text_without_numbers))\n",
    "text_without_numbers[:10000]   "
   ]
  },
  {
   "cell_type": "markdown",
   "metadata": {},
   "source": [
    "**Tokenize the words**"
   ]
  },
  {
   "cell_type": "code",
   "execution_count": 14,
   "metadata": {
    "ExecuteTime": {
     "end_time": "2018-08-24T12:11:03.614082Z",
     "start_time": "2018-08-24T12:11:03.605294Z"
    }
   },
   "outputs": [
    {
     "name": "stdout",
     "output_type": "stream",
     "text": [
      "Total words : 3106\n",
      "\n",
      "\n",
      "\n",
      "['PHP', 'Hypertext', 'Preprocessor', 'Downloads', 'Documentation', 'Get', 'Involved', 'Help', 'Getting', 'Started', 'Introduction', 'A', 'simple', 'tutorial', 'Language', 'Reference', 'Basic', 'syntax', 'Types', 'Variables', 'Constants', 'Expressions', 'Operators', 'Control', 'Structures', 'Functions', 'Classes', 'and', 'Objects', 'Namespaces', 'Errors', 'Exceptions', 'Generators', 'References', 'Explained', 'Predefined', 'Variables', 'Predefined', 'Exceptions', 'Predefined', 'Interfaces', 'and', 'Classes', 'Context', 'options', 'and', 'parameters', 'Supported', 'Protocols', 'and', 'Wrappers', 'Security', 'Introduction', 'General', 'considerations', 'Installed', 'as', 'CGI', 'binary', 'Installed', 'as', 'an', 'Apache', 'module', 'Session', 'Security', 'Filesystem', 'Security', 'Database', 'Security', 'Error', 'Reporting', 'Using', 'Register', 'Globals', 'User', 'Submitted', 'Data', 'Magic', 'Quotes', 'Hiding', 'PHP', 'Keeping', 'Current', 'Features', 'HTTP', 'authentication', 'with', 'PHP', 'Cookies', 'Sessions', 'Dealing', 'with', 'XForms', 'Handling', 'file', 'uploads', 'Using', 'remote', 'files', 'Connection', 'handling', 'Persistent', 'Database', 'Connections', 'Safe', 'Mode', 'Command', 'line', 'usage', 'Garbage', 'Collection', 'DTrace', 'Dynamic', 'Tracing', 'Function', 'Reference', 'Affecting', 'PHP', 's', 'Behaviour', 'Audio', 'Formats', 'Manipulation', 'Authentication', 'Services', 'Command', 'Line', 'Specific', 'Extensions', 'Compression', 'and', 'Archive', 'Extensions', 'Credit', 'Card', 'Processing', 'Cryptography', 'Extensions', 'Database', 'Extensions', 'Date', 'and', 'Time', 'Related', 'Extensions', 'File', 'System', 'Related', 'Extensions', 'Human', 'Language', 'and', 'Character', 'Encoding', 'Support', 'Image', 'Processing', 'and', 'Generation', 'Mail', 'Related', 'Extensions', 'Mathematical', 'Extensions', 'Non', 'Text', 'MIME', 'Output', 'Process', 'Control', 'Extensions', 'Other', 'Basic', 'Extensions', 'Other', 'Services', 'Search', 'Engine', 'Extensions', 'Server', 'Specific', 'Extensions', 'Session', 'Extensions', 'Text', 'Processing', 'Variable', 'and', 'Type', 'Related', 'Extensions', 'Web', 'Services', 'Windows', 'Only', 'Extensions', 'XML', 'Manipulation', 'GUI', 'Extensions', 'Keyboard', 'Shortcuts', 'This', 'help', 'j', 'Next', 'menu', 'item', 'k', 'Previous', 'menu', 'item', 'g', 'p', 'Previous', 'man', 'page', 'g', 'n', 'Next', 'man', 'page', 'G', 'Scroll', 'to', 'bottom', 'g', 'g', 'Scroll', 'to', 'top', 'g', 'h', 'Goto', 'homepage', 'g', 's', 'Goto', 'search', 'current', 'page', 'Focus', 'search', 'box', 'PHP', 'is', 'a', 'popular', 'general', 'purpose', 'scripting', 'language', 'that', 'is', 'especially', 'suited', 'to', 'web', 'development', 'Fast', 'flexible', 'and', 'pragmatic', 'PHP', 'powers', 'everything', 'from', 'your', 'blog', 'to', 'the', 'most', 'popular', 'websites', 'in', 'the', 'world', 'Download', '·Release', 'Notes·Upgrading', '·Release', 'Notes·Upgrading', '·Release', 'Notes·Upgrading', '·Release', 'Notes·Upgrading', 'Oct', 'PHP', 'Released', 'The', 'PHP', 'development', 'team', 'announces', 'the', 'immediate', 'availability', 'of', 'PHP', 'This', 'is', 'a', 'bugfix', 'release', 'All', 'PHP', 'users', 'are', 'encouraged', 'to', 'upgrade', 'to', 'this', 'version', 'For', 'source', 'downloads', 'of', 'PHP', 'please', 'visit', 'our', 'downloads', 'page', 'Windows', 'source', 'and', 'binaries', 'can', 'be', 'found', 'on', 'windows', 'php', 'net', 'download', 'The', 'list', 'of', 'changes', 'is', 'recorded', 'in', 'the', 'ChangeLog', 'Oct', 'PHP', 'Released', 'The', 'PHP', 'development', 'team', 'announces', 'the', 'immediate', 'availability', 'of', 'PHP', 'This', 'is', 'a', 'bugfix', 'release', 'All', 'PHP', 'users', 'are', 'encouraged', 'to', 'upgrade', 'to', 'this', 'version', 'For', 'source', 'downloads', 'of', 'PHP', 'please', 'visit', 'our', 'downloads', 'page', 'Windows', 'source', 'and', 'binaries', 'can', 'be', 'found', 'on', 'windows', 'php', 'net', 'download', 'The', 'list', 'of', 'changes', 'is', 'recorded', 'in', 'the', 'ChangeLog', 'Oct', 'PHP', 'RC', 'Released', 'The', 'PHP', 'team', 'is', 'glad', 'to', 'announce', 'the', 'next', 'PHP', 'pre', 'release', 'PHP', 'RC', 'The', 'rough', 'outline', 'of', 'the', 'PHP', 'release', 'cycle', 'is', 'specified', 'in', 'the', 'PHP', 'Wiki', 'For', 'source', 'downloads', 'of', 'PHP', 'RC', 'please', 'visit', 'the', 'download', 'page', 'Windows', 'sources', 'and', 'binaries', 'can', 'be', 'found', 'on', 'windows', 'php', 'net', 'qa', 'Please', 'carefully', 'test', 'this', 'version', 'and', 'report', 'any', 'issues', 'found', 'in', 'the', 'bug', 'reporting', 'system', 'THIS', 'IS', 'A', 'DEVELOPMENT', 'PREVIEW', 'DO', 'NOT', 'USE', 'IT', 'IN', 'PRODUCTION', 'For', 'more', 'information', 'on', 'the', 'new', 'features', 'and', 'other', 'changes', 'you', 'can', 'read', 'the', 'NEWS', 'file', 'or', 'the', 'UPGRADING', 'file', 'for', 'a', 'complete', 'list', 'of', 'upgrading', 'notes', 'Internal', 'changes', 'are', 'listed', 'in', 'the', 'UPGRADING', 'INTERNALS', 'file', 'These', 'files', 'can', 'also', 'be', 'found', 'in', 'the', 'release', 'archive', 'The', 'next', 'release', 'would', 'be', 'RC', 'planned', 'for', 'October', 'th', 'The', 'signatures', 'for', 'the', 'release', 'can', 'be', 'found', 'in', 'the', 'manifest', 'or', 'on', 'the', 'QA', 'site', 'Thank', 'you', 'for', 'helping', 'us', 'make', 'PHP', 'better', 'Sep', 'PHP', 'RC', 'Released', 'The', 'PHP', 'team', 'is', 'glad', 'to', 'announce', 'the', 'next', 'PHP', 'pre', 'release', 'PHP', 'RC', 'The', 'rough', 'outline', 'of', 'the', 'PHP', 'release', 'cycle', 'is', 'specified', 'in', 'the', 'PHP', 'Wiki', 'For', 'source', 'downloads', 'of', 'PHP', 'RC', 'please', 'visit', 'the', 'download', 'page', 'Windows', 'sources', 'and', 'binaries', 'can', 'be', 'found', 'on', 'windows', 'php', 'net', 'qa', 'Please', 'carefully', 'test', 'this', 'version', 'and', 'report', 'any', 'issues', 'found', 'in', 'the', 'bug', 'reporting', 'system', 'THIS', 'IS', 'A', 'DEVELOPMENT', 'PREVIEW', 'DO', 'NOT', 'USE', 'IT', 'IN', 'PRODUCTION', 'For', 'more', 'information', 'on', 'the', 'new', 'features', 'and', 'other', 'changes', 'you', 'can', 'read', 'the', 'NEWS', 'file', 'or', 'the', 'UPGRADING', 'file', 'for', 'a', 'complete', 'list', 'of', 'upgrading', 'notes', 'Internal', 'changes', 'are', 'listed', 'in', 'the', 'UPGRADING', 'INTERNALS', 'file', 'These', 'files', 'can', 'also', 'be', 'found', 'in', 'the', 'release', 'archive', 'The', 'next', 'release', 'would', 'be', 'RC', 'planned', 'for', 'October', 'th', 'The', 'signatures', 'for', 'the', 'release', 'can', 'be', 'found', 'in', 'the', 'manifest', 'or', 'on', 'the', 'QA', 'site', 'Thank', 'you', 'for', 'helping', 'us', 'make', 'PHP', 'better', 'Sep', 'PHP', 'Released', 'The', 'PHP', 'development', 'team', 'announces', 'the', 'immediate', 'availability', 'of', 'PHP', 'This', 'is', 'a', 'security', 'release', 'One', 'security', 'bug', 'has', 'been', 'fixed', 'in', 'this', 'release', 'All', 'PHP', 'users', 'are', 'encouraged', 'to', 'upgrade', 'to', 'this', 'version', 'For', 'source', 'downloads', 'of', 'PHP', 'please', 'visit', 'our', 'downloads', 'page', 'Windows', 'source', 'and', 'binaries', 'can', 'be', 'found', 'on', 'windows', 'php', 'net', 'download', 'The', 'list', 'of', 'changes', 'is', 'recorded', 'in', 'the', 'ChangeLog', 'Sep', 'PHP', 'Released', 'The', 'PHP', 'development', 'team', 'announces', 'the', 'immediate', 'availability', 'of', 'PHP', 'This', 'is', 'a', 'security', 'release', 'One', 'security', 'bug', 'has', 'been', 'fixed', 'in', 'this', 'release', 'All', 'PHP', 'users', 'are', 'encouraged', 'to', 'upgrade', 'to', 'this', 'version', 'For', 'source', 'downloads', 'of', 'PHP', 'please', 'visit', 'our', 'downloads', 'page', 'Windows', 'source', 'and', 'binaries', 'can', 'be', 'found', 'on', 'windows', 'php', 'net', 'download', 'The', 'list', 'of', 'changes', 'is', 'recorded', 'in', 'the', 'ChangeLog', 'Sep', 'PHP', 'Released', 'The', 'PHP', 'development', 'team', 'announces', 'the', 'immediate', 'availability', 'of', 'PHP', 'This', 'is', 'a', 'security', 'release', 'One', 'security', 'bug', 'has', 'been', 'fixed', 'in', 'this', 'release', 'All', 'PHP', 'users', 'are', 'encouraged', 'to', 'upgrade', 'to', 'this', 'version', 'For', 'source', 'downloads', 'of', 'PHP', 'please', 'visit', 'our', 'downloads', 'page', 'Windows', 'source', 'and', 'binaries', 'can', 'be', 'found', 'on', 'windows', 'php', 'net', 'download', 'The', 'list', 'of', 'changes', 'is', 'recorded', 'in', 'the', 'ChangeLog', 'Sep', 'PHP', 'RC', 'Released', 'The', 'PHP', 'team', 'is', 'glad', 'to', 'announce', 'the', 'release', 'of', 'the', 'next', 'PHP', 'pre', 'release', 'PHP', 'RC', 'The', 'rough', 'outline', 'of', 'the', 'PHP', 'release', 'cycle', 'is', 'specified', 'in', 'the', 'PHP', 'Wiki', 'For', 'source', 'downloads', 'of', 'PHP', 'RC', 'please', 'visit', 'the', 'download', 'page', 'Windows', 'sources', 'and', 'binaries', 'can', 'be', 'found', 'on', 'windows', 'php', 'net', 'qa', 'Please', 'carefully', 'test', 'this', 'version', 'and', 'report', 'any', 'issues', 'found', 'in']\n"
     ]
    }
   ],
   "source": [
    "total_Words = text_without_numbers.split()\n",
    "print(\"Total words : \" + str(len(total_Words)))\n",
    "print(\"\\n\\n\")\n",
    "print(total_Words[:1000])"
   ]
  },
  {
   "cell_type": "markdown",
   "metadata": {},
   "source": [
    "# Clean the Word List"
   ]
  },
  {
   "cell_type": "code",
   "execution_count": 16,
   "metadata": {
    "ExecuteTime": {
     "end_time": "2018-08-24T12:09:48.496280Z",
     "start_time": "2018-08-24T12:09:48.488295Z"
    },
    "scrolled": false
   },
   "outputs": [
    {
     "name": "stdout",
     "output_type": "stream",
     "text": [
      "3097\n",
      "\n",
      "\n",
      "['PHP', 'Hypertext', 'Preprocessor', 'Downloads', 'Documentation', 'Get', 'Involved', 'Help', 'Getting', 'Started', 'Introduction', 'A', 'simple', 'tutorial', 'Language', 'Reference', 'Basic', 'syntax', 'Types', 'Variables', 'Constants', 'Expressions', 'Operators', 'Control', 'Structures', 'Functions', 'Classes', 'and', 'Objects', 'Namespaces', 'Errors', 'Exceptions', 'Generators', 'References', 'Explained', 'Predefined', 'Variables', 'Predefined', 'Exceptions', 'Predefined', 'Interfaces', 'and', 'Classes', 'Context', 'options', 'and', 'parameters', 'Supported', 'Protocols', 'and', 'Wrappers', 'Security', 'Introduction', 'General', 'considerations', 'Installed', 'as', 'CGI', 'binary', 'Installed', 'as', 'an', 'Apache', 'module', 'Session', 'Security', 'Filesystem', 'Security', 'Database', 'Security', 'Error', 'Reporting', 'Using', 'Register', 'Globals', 'User', 'Submitted', 'Data', 'Magic', 'Quotes', 'Hiding', 'PHP', 'Keeping', 'Current', 'Features', 'HTTP', 'authentication', 'with', 'PHP', 'Cookies', 'Sessions', 'Dealing', 'with', 'XForms', 'Handling', 'file', 'uploads', 'Using', 'remote', 'files', 'Connection', 'handling', 'Persistent', 'Database', 'Connections', 'Safe', 'Mode', 'Command', 'line', 'usage', 'Garbage', 'Collection', 'DTrace', 'Dynamic', 'Tracing', 'Function', 'Reference', 'Affecting', 'PHP', 's', 'Behaviour', 'Audio', 'Formats', 'Manipulation', 'Authentication', 'Services', 'Command', 'Line', 'Specific', 'Extensions', 'Compression', 'and', 'Archive', 'Extensions', 'Credit', 'Card', 'Processing', 'Cryptography', 'Extensions', 'Database', 'Extensions', 'Date', 'and', 'Time', 'Related', 'Extensions', 'File', 'System', 'Related', 'Extensions', 'Human', 'Language', 'and', 'Character', 'Encoding', 'Support', 'Image', 'Processing', 'and', 'Generation', 'Mail', 'Related', 'Extensions', 'Mathematical', 'Extensions', 'Non', 'Text', 'MIME', 'Output', 'Process', 'Control', 'Extensions', 'Other', 'Basic', 'Extensions', 'Other', 'Services', 'Search', 'Engine', 'Extensions', 'Server', 'Specific', 'Extensions', 'Session', 'Extensions', 'Text', 'Processing', 'Variable', 'and', 'Type', 'Related', 'Extensions', 'Web', 'Services', 'Windows', 'Only', 'Extensions', 'XML', 'Manipulation', 'GUI', 'Extensions', 'Keyboard', 'Shortcuts', 'This', 'help', 'j', 'Next', 'menu', 'item', 'k', 'Previous', 'menu', 'item', 'g', 'p', 'Previous', 'man', 'page', 'g', 'n', 'Next', 'man', 'page', 'G', 'Scroll', 'to', 'bottom', 'g', 'g', 'Scroll', 'to', 'top', 'g', 'h', 'Goto', 'homepage', 'g', 's', 'Goto', 'search', 'current', 'page', 'Focus', 'search', 'box', 'PHP', 'is', 'a', 'popular', 'general', 'purpose', 'scripting', 'language', 'that', 'is', 'especially', 'suited', 'to', 'web', 'development', 'Fast', 'flexible', 'and', 'pragmatic', 'PHP', 'powers', 'everything', 'from', 'your', 'blog', 'to', 'the', 'most', 'popular', 'websites', 'in', 'the', 'world', 'Download', 'Oct', 'PHP', 'Released', 'The', 'PHP', 'development', 'team', 'announces', 'the', 'immediate', 'availability', 'of', 'PHP', 'This', 'is', 'a', 'bugfix', 'release', 'All', 'PHP', 'users', 'are', 'encouraged', 'to', 'upgrade', 'to', 'this', 'version', 'For', 'source', 'downloads', 'of', 'PHP', 'please', 'visit', 'our', 'downloads', 'page', 'Windows', 'source', 'and', 'binaries', 'can', 'be', 'found', 'on', 'windows', 'php', 'net', 'download', 'The', 'list', 'of', 'changes', 'is', 'recorded', 'in', 'the', 'ChangeLog', 'Oct', 'PHP', 'Released', 'The', 'PHP', 'development', 'team', 'announces', 'the', 'immediate', 'availability', 'of', 'PHP', 'This', 'is', 'a', 'bugfix', 'release', 'All', 'PHP', 'users', 'are', 'encouraged', 'to', 'upgrade', 'to', 'this', 'version', 'For', 'source', 'downloads', 'of', 'PHP', 'please', 'visit', 'our', 'downloads', 'page', 'Windows', 'source', 'and', 'binaries', 'can', 'be', 'found', 'on', 'windows', 'php', 'net', 'download', 'The', 'list', 'of', 'changes', 'is', 'recorded', 'in', 'the', 'ChangeLog', 'Oct', 'PHP', 'RC', 'Released', 'The', 'PHP', 'team', 'is', 'glad', 'to', 'announce', 'the', 'next', 'PHP', 'pre', 'release', 'PHP', 'RC', 'The', 'rough', 'outline', 'of', 'the', 'PHP', 'release', 'cycle', 'is', 'specified', 'in', 'the', 'PHP', 'Wiki', 'For', 'source', 'downloads', 'of', 'PHP', 'RC', 'please', 'visit', 'the', 'download', 'page', 'Windows', 'sources', 'and', 'binaries', 'can', 'be', 'found', 'on', 'windows', 'php', 'net', 'qa', 'Please', 'carefully', 'test', 'this', 'version', 'and', 'report', 'any', 'issues', 'found', 'in', 'the', 'bug', 'reporting', 'system', 'THIS', 'IS', 'A', 'DEVELOPMENT', 'PREVIEW', 'DO', 'NOT', 'USE', 'IT', 'IN', 'PRODUCTION', 'For', 'more', 'information', 'on', 'the', 'new', 'features', 'and', 'other', 'changes', 'you', 'can', 'read', 'the', 'NEWS', 'file', 'or', 'the', 'UPGRADING', 'file', 'for', 'a', 'complete', 'list', 'of', 'upgrading', 'notes', 'Internal', 'changes', 'are', 'listed', 'in', 'the', 'UPGRADING', 'INTERNALS', 'file', 'These', 'files', 'can', 'also', 'be', 'found', 'in', 'the', 'release', 'archive', 'The', 'next', 'release', 'would', 'be', 'RC', 'planned', 'for', 'October', 'th', 'The', 'signatures', 'for', 'the', 'release', 'can', 'be', 'found', 'in', 'the', 'manifest', 'or', 'on', 'the', 'QA', 'site', 'Thank', 'you', 'for', 'helping', 'us', 'make', 'PHP', 'better', 'Sep', 'PHP', 'RC', 'Released', 'The', 'PHP', 'team', 'is', 'glad', 'to', 'announce', 'the', 'next', 'PHP', 'pre', 'release', 'PHP', 'RC', 'The', 'rough', 'outline', 'of', 'the', 'PHP', 'release', 'cycle', 'is', 'specified', 'in', 'the', 'PHP', 'Wiki', 'For', 'source', 'downloads', 'of', 'PHP', 'RC', 'please', 'visit', 'the', 'download', 'page', 'Windows', 'sources', 'and', 'binaries', 'can', 'be', 'found', 'on', 'windows', 'php', 'net', 'qa', 'Please', 'carefully', 'test', 'this', 'version', 'and', 'report', 'any', 'issues', 'found', 'in', 'the', 'bug', 'reporting', 'system', 'THIS', 'IS', 'A', 'DEVELOPMENT', 'PREVIEW', 'DO', 'NOT', 'USE', 'IT', 'IN', 'PRODUCTION', 'For', 'more', 'information', 'on', 'the', 'new', 'features', 'and', 'other', 'changes', 'you', 'can', 'read', 'the', 'NEWS', 'file', 'or', 'the', 'UPGRADING', 'file', 'for', 'a', 'complete', 'list', 'of', 'upgrading', 'notes', 'Internal', 'changes', 'are', 'listed', 'in', 'the', 'UPGRADING', 'INTERNALS', 'file', 'These', 'files', 'can', 'also', 'be', 'found', 'in', 'the', 'release', 'archive', 'The', 'next', 'release', 'would', 'be', 'RC', 'planned', 'for', 'October', 'th', 'The', 'signatures', 'for', 'the', 'release', 'can', 'be', 'found', 'in', 'the', 'manifest', 'or', 'on', 'the', 'QA', 'site', 'Thank', 'you', 'for', 'helping', 'us', 'make', 'PHP', 'better', 'Sep', 'PHP', 'Released', 'The', 'PHP', 'development', 'team', 'announces', 'the', 'immediate', 'availability', 'of', 'PHP', 'This', 'is', 'a', 'security', 'release', 'One', 'security', 'bug', 'has', 'been', 'fixed', 'in', 'this', 'release', 'All', 'PHP', 'users', 'are', 'encouraged', 'to', 'upgrade', 'to', 'this', 'version', 'For', 'source', 'downloads', 'of', 'PHP', 'please', 'visit', 'our', 'downloads', 'page', 'Windows', 'source', 'and', 'binaries', 'can', 'be', 'found', 'on', 'windows', 'php', 'net', 'download', 'The', 'list', 'of', 'changes', 'is', 'recorded', 'in', 'the', 'ChangeLog', 'Sep', 'PHP', 'Released', 'The', 'PHP', 'development', 'team', 'announces', 'the', 'immediate', 'availability', 'of', 'PHP', 'This', 'is', 'a', 'security', 'release', 'One', 'security', 'bug', 'has', 'been', 'fixed', 'in', 'this', 'release', 'All', 'PHP', 'users', 'are', 'encouraged', 'to', 'upgrade', 'to', 'this', 'version', 'For', 'source', 'downloads', 'of', 'PHP', 'please', 'visit', 'our', 'downloads', 'page', 'Windows', 'source', 'and', 'binaries', 'can', 'be', 'found', 'on', 'windows', 'php', 'net', 'download', 'The', 'list', 'of', 'changes', 'is', 'recorded', 'in', 'the', 'ChangeLog', 'Sep', 'PHP', 'Released', 'The', 'PHP', 'development', 'team', 'announces', 'the', 'immediate', 'availability', 'of', 'PHP', 'This', 'is', 'a', 'security', 'release', 'One', 'security', 'bug', 'has', 'been', 'fixed', 'in', 'this', 'release', 'All', 'PHP', 'users', 'are', 'encouraged', 'to', 'upgrade', 'to', 'this', 'version', 'For', 'source', 'downloads', 'of', 'PHP', 'please', 'visit', 'our', 'downloads', 'page', 'Windows', 'source', 'and', 'binaries', 'can', 'be', 'found', 'on', 'windows', 'php', 'net', 'download', 'The', 'list', 'of', 'changes', 'is', 'recorded', 'in', 'the', 'ChangeLog', 'Sep', 'PHP', 'RC', 'Released', 'The', 'PHP', 'team', 'is', 'glad', 'to', 'announce', 'the', 'release', 'of', 'the', 'next', 'PHP', 'pre', 'release', 'PHP', 'RC', 'The', 'rough', 'outline', 'of', 'the', 'PHP', 'release', 'cycle', 'is', 'specified', 'in', 'the', 'PHP', 'Wiki', 'For', 'source', 'downloads', 'of', 'PHP', 'RC', 'please', 'visit', 'the', 'download', 'page', 'Windows', 'sources', 'and', 'binaries', 'can', 'be', 'found', 'on', 'windows', 'php', 'net', 'qa', 'Please', 'carefully', 'test', 'this', 'version', 'and', 'report', 'any', 'issues', 'found', 'in', 'the', 'bug', 'reporting', 'system', 'THIS', 'IS', 'A', 'DEVELOPMENT']\n"
     ]
    }
   ],
   "source": [
    "# Create word which has only alphabets \n",
    "words_alpha = [word for word in total_Words if word.isalpha()] \n",
    "print(str(len(words_alpha)) + \"\\n\\n\")\n",
    "print(words_alpha[:1000]) "
   ]
  },
  {
   "cell_type": "code",
   "execution_count": 17,
   "metadata": {
    "ExecuteTime": {
     "end_time": "2018-08-24T12:09:48.511371Z",
     "start_time": "2018-08-24T12:09:48.500947Z"
    },
    "scrolled": false
   },
   "outputs": [
    {
     "name": "stdout",
     "output_type": "stream",
     "text": [
      "3097\n",
      "['php', 'hypertext', 'preprocessor', 'downloads', 'documentation', 'get', 'involved', 'help', 'getting', 'started', 'introduction', 'a', 'simple', 'tutorial', 'language', 'reference', 'basic', 'syntax', 'types', 'variables', 'constants', 'expressions', 'operators', 'control', 'structures', 'functions', 'classes', 'and', 'objects', 'namespaces', 'errors', 'exceptions', 'generators', 'references', 'explained', 'predefined', 'variables', 'predefined', 'exceptions', 'predefined', 'interfaces', 'and', 'classes', 'context', 'options', 'and', 'parameters', 'supported', 'protocols', 'and', 'wrappers', 'security', 'introduction', 'general', 'considerations', 'installed', 'as', 'cgi', 'binary', 'installed', 'as', 'an', 'apache', 'module', 'session', 'security', 'filesystem', 'security', 'database', 'security', 'error', 'reporting', 'using', 'register', 'globals', 'user', 'submitted', 'data', 'magic', 'quotes', 'hiding', 'php', 'keeping', 'current', 'features', 'http', 'authentication', 'with', 'php', 'cookies', 'sessions', 'dealing', 'with', 'xforms', 'handling', 'file', 'uploads', 'using', 'remote', 'files', 'connection', 'handling', 'persistent', 'database', 'connections', 'safe', 'mode', 'command', 'line', 'usage', 'garbage', 'collection', 'dtrace', 'dynamic', 'tracing', 'function', 'reference', 'affecting', 'php', 's', 'behaviour', 'audio', 'formats', 'manipulation', 'authentication', 'services', 'command', 'line', 'specific', 'extensions', 'compression', 'and', 'archive', 'extensions', 'credit', 'card', 'processing', 'cryptography', 'extensions', 'database', 'extensions', 'date', 'and', 'time', 'related', 'extensions', 'file', 'system', 'related', 'extensions', 'human', 'language', 'and', 'character', 'encoding', 'support', 'image', 'processing', 'and', 'generation', 'mail', 'related', 'extensions', 'mathematical', 'extensions', 'non', 'text', 'mime', 'output', 'process', 'control', 'extensions', 'other', 'basic', 'extensions', 'other', 'services', 'search', 'engine', 'extensions', 'server', 'specific', 'extensions', 'session', 'extensions', 'text', 'processing', 'variable', 'and', 'type', 'related', 'extensions', 'web', 'services', 'windows', 'only', 'extensions', 'xml', 'manipulation', 'gui', 'extensions', 'keyboard', 'shortcuts', 'this', 'help', 'j', 'next', 'menu', 'item', 'k', 'previous', 'menu', 'item', 'g', 'p', 'previous', 'man', 'page', 'g', 'n', 'next', 'man', 'page', 'g', 'scroll', 'to', 'bottom', 'g', 'g', 'scroll', 'to', 'top', 'g', 'h', 'goto', 'homepage', 'g', 's', 'goto', 'search', 'current', 'page', 'focus', 'search', 'box', 'php', 'is', 'a', 'popular', 'general', 'purpose', 'scripting', 'language', 'that', 'is', 'especially', 'suited', 'to', 'web', 'development', 'fast', 'flexible', 'and', 'pragmatic', 'php', 'powers', 'everything', 'from', 'your', 'blog', 'to', 'the', 'most', 'popular', 'websites', 'in', 'the', 'world', 'download', 'oct', 'php', 'released', 'the', 'php', 'development', 'team', 'announces', 'the', 'immediate', 'availability', 'of', 'php', 'this', 'is', 'a', 'bugfix', 'release', 'all', 'php', 'users', 'are', 'encouraged', 'to', 'upgrade', 'to', 'this', 'version', 'for', 'source', 'downloads', 'of', 'php', 'please', 'visit', 'our', 'downloads', 'page', 'windows', 'source', 'and', 'binaries', 'can', 'be', 'found', 'on', 'windows', 'php', 'net', 'download', 'the', 'list', 'of', 'changes', 'is', 'recorded', 'in', 'the', 'changelog', 'oct', 'php', 'released', 'the', 'php', 'development', 'team', 'announces', 'the', 'immediate', 'availability', 'of', 'php', 'this', 'is', 'a', 'bugfix', 'release', 'all', 'php', 'users', 'are', 'encouraged', 'to', 'upgrade', 'to', 'this', 'version', 'for', 'source', 'downloads', 'of', 'php', 'please', 'visit', 'our', 'downloads', 'page', 'windows', 'source', 'and', 'binaries', 'can', 'be', 'found', 'on', 'windows', 'php', 'net', 'download', 'the', 'list', 'of', 'changes', 'is', 'recorded', 'in', 'the', 'changelog', 'oct', 'php', 'rc', 'released', 'the', 'php', 'team', 'is', 'glad', 'to', 'announce', 'the', 'next', 'php', 'pre', 'release', 'php', 'rc', 'the', 'rough', 'outline', 'of', 'the', 'php', 'release', 'cycle', 'is', 'specified', 'in', 'the', 'php', 'wiki', 'for', 'source', 'downloads', 'of', 'php', 'rc', 'please', 'visit', 'the', 'download', 'page', 'windows', 'sources', 'and', 'binaries', 'can', 'be', 'found', 'on', 'windows', 'php', 'net', 'qa', 'please', 'carefully', 'test', 'this', 'version', 'and', 'report', 'any', 'issues', 'found', 'in', 'the', 'bug', 'reporting', 'system', 'this', 'is', 'a', 'development', 'preview', 'do', 'not', 'use', 'it', 'in', 'production', 'for', 'more', 'information', 'on', 'the', 'new', 'features', 'and', 'other', 'changes', 'you', 'can', 'read', 'the', 'news', 'file', 'or', 'the', 'upgrading', 'file', 'for', 'a', 'complete', 'list', 'of', 'upgrading', 'notes', 'internal', 'changes', 'are', 'listed', 'in', 'the', 'upgrading', 'internals', 'file', 'these', 'files', 'can', 'also', 'be', 'found', 'in', 'the', 'release', 'archive', 'the', 'next', 'release', 'would', 'be', 'rc', 'planned', 'for', 'october', 'th', 'the', 'signatures', 'for', 'the', 'release', 'can', 'be', 'found', 'in', 'the', 'manifest', 'or', 'on', 'the', 'qa', 'site', 'thank', 'you', 'for', 'helping', 'us', 'make', 'php', 'better', 'sep', 'php', 'rc', 'released', 'the', 'php', 'team', 'is', 'glad', 'to', 'announce', 'the', 'next', 'php', 'pre', 'release', 'php', 'rc', 'the', 'rough', 'outline', 'of', 'the', 'php', 'release', 'cycle', 'is', 'specified', 'in', 'the', 'php', 'wiki', 'for', 'source', 'downloads', 'of', 'php', 'rc', 'please', 'visit', 'the', 'download', 'page', 'windows', 'sources', 'and', 'binaries', 'can', 'be', 'found', 'on', 'windows', 'php', 'net', 'qa', 'please', 'carefully', 'test', 'this', 'version', 'and', 'report', 'any', 'issues', 'found', 'in', 'the', 'bug', 'reporting', 'system', 'this', 'is', 'a', 'development', 'preview', 'do', 'not', 'use', 'it', 'in', 'production', 'for', 'more', 'information', 'on', 'the', 'new', 'features', 'and', 'other', 'changes', 'you', 'can', 'read', 'the', 'news', 'file', 'or', 'the', 'upgrading', 'file', 'for', 'a', 'complete', 'list', 'of', 'upgrading', 'notes', 'internal', 'changes', 'are', 'listed', 'in', 'the', 'upgrading', 'internals', 'file', 'these', 'files', 'can', 'also', 'be', 'found', 'in', 'the', 'release', 'archive', 'the', 'next', 'release', 'would', 'be', 'rc', 'planned', 'for', 'october', 'th', 'the', 'signatures', 'for', 'the', 'release', 'can', 'be', 'found', 'in', 'the', 'manifest', 'or', 'on', 'the', 'qa', 'site', 'thank', 'you', 'for', 'helping', 'us', 'make', 'php', 'better', 'sep', 'php', 'released', 'the', 'php', 'development', 'team', 'announces', 'the', 'immediate', 'availability', 'of', 'php', 'this', 'is', 'a', 'security', 'release', 'one', 'security', 'bug', 'has', 'been', 'fixed', 'in', 'this', 'release', 'all', 'php', 'users', 'are', 'encouraged', 'to', 'upgrade', 'to', 'this', 'version', 'for', 'source', 'downloads', 'of', 'php', 'please', 'visit', 'our', 'downloads', 'page', 'windows', 'source', 'and', 'binaries', 'can', 'be', 'found', 'on', 'windows', 'php', 'net', 'download', 'the', 'list', 'of', 'changes', 'is', 'recorded', 'in', 'the', 'changelog', 'sep', 'php', 'released', 'the', 'php', 'development', 'team', 'announces', 'the', 'immediate', 'availability', 'of', 'php', 'this', 'is', 'a', 'security', 'release', 'one', 'security', 'bug', 'has', 'been', 'fixed', 'in', 'this', 'release', 'all', 'php', 'users', 'are', 'encouraged', 'to', 'upgrade', 'to', 'this', 'version', 'for', 'source', 'downloads', 'of', 'php', 'please', 'visit', 'our', 'downloads', 'page', 'windows', 'source', 'and', 'binaries', 'can', 'be', 'found', 'on', 'windows', 'php', 'net', 'download', 'the', 'list', 'of', 'changes', 'is', 'recorded', 'in', 'the', 'changelog', 'sep', 'php', 'released', 'the', 'php', 'development', 'team', 'announces', 'the', 'immediate', 'availability', 'of', 'php', 'this', 'is', 'a', 'security', 'release', 'one', 'security', 'bug', 'has', 'been', 'fixed', 'in', 'this', 'release', 'all', 'php', 'users', 'are', 'encouraged', 'to', 'upgrade', 'to', 'this', 'version', 'for', 'source', 'downloads', 'of', 'php', 'please', 'visit', 'our', 'downloads', 'page', 'windows', 'source', 'and', 'binaries', 'can', 'be', 'found', 'on', 'windows', 'php', 'net', 'download', 'the', 'list', 'of', 'changes', 'is', 'recorded', 'in', 'the', 'changelog', 'sep', 'php', 'rc', 'released', 'the', 'php', 'team', 'is', 'glad', 'to', 'announce', 'the', 'release', 'of', 'the', 'next', 'php', 'pre', 'release', 'php', 'rc', 'the', 'rough', 'outline', 'of', 'the', 'php', 'release', 'cycle', 'is', 'specified', 'in', 'the', 'php', 'wiki', 'for', 'source', 'downloads', 'of', 'php', 'rc', 'please', 'visit', 'the', 'download', 'page', 'windows', 'sources', 'and', 'binaries', 'can', 'be', 'found', 'on', 'windows', 'php', 'net', 'qa', 'please', 'carefully', 'test', 'this', 'version', 'and', 'report', 'any', 'issues', 'found', 'in', 'the', 'bug', 'reporting', 'system', 'this', 'is', 'a', 'development', 'preview', 'do', 'not', 'use', 'it', 'in', 'production', 'for', 'more', 'information', 'on', 'the', 'new', 'features', 'and', 'other', 'changes', 'you', 'can', 'read', 'the', 'news', 'file', 'or', 'the', 'upgrading', 'file', 'for', 'a', 'complete', 'list', 'of', 'upgrading', 'notes', 'internal', 'changes', 'are', 'listed', 'in', 'the', 'upgrading', 'internals', 'file', 'these', 'files', 'can', 'also', 'be', 'found', 'in', 'the', 'release', 'archive', 'the', 'next', 'release', 'would', 'be', 'rc', 'planned', 'for', 'september', 'th', 'the', 'signatures', 'for', 'the', 'release', 'can', 'be', 'found', 'in', 'the', 'manifest', 'or', 'on', 'the', 'qa', 'site', 'thank', 'you', 'for', 'helping', 'us', 'make', 'php', 'better', 'sep', 'php', 'released', 'the', 'php', 'development', 'team', 'announces', 'the', 'immediate', 'availability', 'of', 'php', 'this', 'is', 'a', 'security', 'release', 'which', 'also', 'contains', 'several', 'minor', 'bug', 'fixes', 'all', 'php', 'users', 'are', 'encouraged', 'to', 'upgrade', 'to', 'this', 'version', 'for', 'source', 'downloads', 'of', 'php', 'please', 'visit', 'our', 'downloads', 'page', 'windows', 'source', 'and', 'binaries', 'can', 'be', 'found', 'on', 'windows', 'php', 'net', 'download', 'the', 'list', 'of', 'changes', 'is', 'recorded', 'in', 'the', 'changelog', 'aug', 'php', 'beta', 'released', 'the', 'php', 'team', 'is', 'glad', 'to', 'announce', 'the', 'release', 'of', 'the', 'seventh', 'php', 'version', 'php', 'beta', 'the', 'rough', 'outline', 'of', 'the', 'php', 'release', 'cycle', 'is', 'specified', 'in', 'the', 'php', 'wiki', 'for', 'source', 'downloads', 'of', 'php', 'beta', 'please', 'visit', 'the', 'download', 'page', 'windows', 'sources', 'and', 'binaries', 'can', 'be', 'found', 'on', 'windows', 'php', 'net', 'qa', 'please', 'carefully', 'test', 'this', 'version', 'and', 'report', 'any', 'issues', 'found', 'in', 'the', 'bug', 'reporting', 'system', 'this', 'is', 'a', 'development', 'preview', 'do', 'not', 'use', 'it', 'in', 'production', 'for', 'more', 'information', 'on', 'the', 'new', 'features', 'and', 'other', 'changes', 'you', 'can', 'read', 'the', 'news', 'file', 'or', 'the', 'upgrading', 'file', 'for', 'a', 'complete', 'list', 'of', 'upgrading', 'notes', 'internal', 'changes', 'are', 'listed', 'in', 'the', 'upgrading', 'internals', 'file', 'these', 'files', 'can', 'also', 'be', 'found', 'in', 'the', 'release', 'archive', 'the', 'next', 'release', 'would', 'be', 'rc', 'planned', 'for', 'september', 'th', 'the', 'signatures', 'for', 'the', 'release', 'can', 'be', 'found', 'in', 'the', 'manifest', 'or', 'on', 'the', 'qa', 'site', 'thank', 'you', 'for', 'helping', 'us', 'make', 'php', 'better', 'aug', 'php', 'beta', 'released', 'the', 'php', 'team', 'is', 'glad', 'to', 'announce', 'the', 'release', 'of', 'the', 'sixth', 'php', 'version', 'php', 'beta', 'the', 'rough', 'outline', 'of', 'the', 'php', 'release', 'cycle', 'is', 'specified', 'in', 'the', 'php', 'wiki', 'for', 'source', 'downloads', 'of', 'php', 'beta', 'please', 'visit', 'the', 'download', 'page', 'windows', 'sources', 'and', 'binaries', 'can', 'be', 'found', 'on', 'windows', 'php', 'net', 'qa', 'please', 'carefully', 'test', 'this', 'version', 'and', 'report', 'any', 'issues', 'found', 'in', 'the', 'bug', 'reporting', 'system', 'this', 'is', 'a', 'development', 'preview', 'do', 'not', 'use', 'it', 'in', 'production', 'for', 'more', 'information', 'on', 'the', 'new', 'features', 'and', 'other', 'changes', 'you', 'can', 'read', 'the', 'news', 'file', 'or', 'the', 'upgrading', 'file', 'for', 'a', 'complete', 'list', 'of', 'upgrading', 'notes', 'internal', 'changes', 'are', 'listed', 'in', 'the', 'upgrading', 'internals', 'file', 'these', 'files', 'can', 'also', 'be', 'found', 'in', 'the', 'release', 'archive', 'the', 'next', 'release', 'would', 'be', 'beta', 'planned', 'for', 'august', 'th', 'the', 'signatures', 'for', 'the', 'release', 'can', 'be', 'found', 'in', 'the', 'manifest', 'or', 'on', 'the', 'qa', 'site', 'thank', 'you', 'for', 'helping', 'us', 'make', 'php', 'better', 'aug', 'php', 'beta', 'released', 'the', 'php', 'team', 'is', 'glad', 'to', 'announce', 'the', 'release', 'of', 'the', 'fifth', 'php', 'version', 'php', 'beta', 'the', 'rough', 'outline', 'of', 'the', 'php', 'release', 'cycle', 'is', 'specified', 'in', 'the', 'php', 'wiki', 'for', 'source', 'downloads', 'of', 'php', 'beta', 'please', 'visit', 'the', 'download', 'page', 'windows', 'sources', 'and', 'binaries', 'can', 'be', 'found', 'on', 'windows', 'php', 'net', 'qa', 'please', 'carefully', 'test', 'this', 'version', 'and', 'report', 'any', 'issues', 'found', 'in', 'the', 'bug', 'reporting', 'system', 'this', 'is', 'a', 'development', 'preview', 'do', 'not', 'use', 'it', 'in', 'production', 'for', 'more', 'information', 'on', 'the', 'new', 'features', 'and', 'other', 'changes', 'you', 'can', 'read', 'the', 'news', 'file', 'or', 'the', 'upgrading', 'file', 'for', 'a', 'complete', 'list', 'of', 'upgrading', 'notes', 'these', 'files', 'can', 'also', 'be', 'found', 'in', 'the', 'release', 'archive', 'the', 'next', 'release', 'would', 'be', 'beta', 'planned', 'for', 'august', 'th', 'the', 'signatures', 'for', 'the', 'release', 'can', 'be', 'found', 'in', 'the', 'manifest', 'or', 'on', 'the', 'qa', 'site', 'thank', 'you', 'for', 'helping', 'us', 'make', 'php', 'better', 'jul', 'php', 'alpha', 'released', 'the', 'php', 'team', 'is', 'glad', 'to', 'announce', 'the', 'release', 'of', 'the', 'fourth', 'php', 'version', 'php', 'alpha', 'the', 'rough', 'outline', 'of', 'the', 'php', 'release', 'cycle', 'is', 'specified', 'in', 'the', 'php', 'wiki', 'for', 'source', 'downloads', 'of', 'php', 'alpha', 'please', 'visit', 'the', 'download', 'page', 'windows', 'sources', 'and', 'binaries', 'can', 'be', 'found', 'on', 'windows', 'php', 'net', 'qa', 'please', 'carefully', 'test', 'this', 'version', 'and', 'report', 'any', 'issues', 'found', 'in', 'the', 'bug', 'reporting', 'system', 'this', 'is', 'a', 'development', 'preview', 'do', 'not', 'use', 'it', 'in', 'production', 'for', 'more', 'information', 'on', 'the', 'new', 'features', 'and', 'other', 'changes', 'you', 'can', 'read', 'the', 'news', 'file', 'or', 'the', 'upgrading', 'file', 'for', 'a', 'complete', 'list', 'of', 'upgrading', 'notes', 'these', 'files', 'can', 'also', 'be', 'found', 'in', 'the', 'release', 'archive', 'the', 'next', 'release', 'would', 'be', 'beta', 'planned', 'for', 'august', 'nd', 'the', 'signatures', 'for', 'the', 'release', 'can', 'be', 'found', 'in', 'the', 'manifest', 'or', 'on', 'the', 'qa', 'site', 'thank', 'you', 'for', 'helping', 'us', 'make', 'php', 'better', 'jul', 'php', 'alpha', 'released', 'the', 'php', 'team', 'is', 'glad', 'to', 'announce', 'the', 'release', 'of', 'the', 'third', 'php', 'version', 'php', 'alpha', 'the', 'rough', 'outline', 'of', 'the', 'php', 'release', 'cycle', 'is', 'specified', 'in', 'the', 'php', 'wiki', 'for', 'source', 'downloads', 'of', 'php', 'alpha', 'please', 'visit', 'the', 'download', 'page', 'windows', 'sources', 'and', 'binaries', 'can', 'be', 'found', 'on', 'windows', 'php', 'net', 'qa', 'please', 'carefully', 'test', 'this', 'version', 'and', 'report', 'any', 'issues', 'found', 'in', 'the', 'bug', 'reporting', 'system', 'this', 'is', 'a', 'development', 'preview', 'do', 'not', 'use', 'it', 'in', 'production', 'for', 'more', 'information', 'on', 'the', 'new', 'features', 'and', 'other', 'changes', 'you', 'can', 'read', 'the', 'news', 'file', 'or', 'the', 'upgrading', 'file', 'for', 'a', 'complete', 'list', 'of', 'upgrading', 'notes', 'these', 'files', 'can', 'also', 'be', 'found', 'in', 'the', 'release', 'archive', 'the', 'next', 'release', 'would', 'be', 'beta', 'planned', 'for', 'july', 'th', 'the', 'signatures', 'for', 'the', 'release', 'can', 'be', 'found', 'in', 'the', 'manifest', 'or', 'on', 'the', 'qa', 'site', 'thank', 'you', 'for', 'helping', 'us', 'make', 'php', 'better', 'jun', 'php', 'alpha', 'released', 'the', 'php', 'team', 'is', 'glad', 'to', 'announce', 'the', 'release', 'of', 'the', 'second', 'php', 'version', 'php', 'alpha', 'the', 'rough', 'outline', 'of', 'the', 'php', 'release', 'cycle', 'is', 'specified', 'in', 'the', 'php', 'wiki', 'for', 'source', 'downloads', 'of', 'php', 'alpha', 'please', 'visit', 'the', 'download', 'page', 'windows', 'sources', 'and', 'binaries', 'can', 'be', 'found', 'on', 'windows', 'php', 'net', 'qa', 'please', 'carefully', 'test', 'this', 'version', 'and', 'report', 'any', 'issues', 'found', 'in', 'the', 'bug', 'reporting', 'system', 'this', 'is', 'a', 'development', 'preview', 'do', 'not', 'use', 'it', 'in', 'production', 'for', 'more', 'information', 'on', 'the', 'new', 'features', 'and', 'other', 'changes', 'you', 'can', 'read', 'the', 'news', 'file', 'or', 'the', 'upgrading', 'file', 'for', 'a', 'complete', 'list', 'of', 'upgrading', 'notes', 'these', 'files', 'can', 'also', 'be', 'found', 'in', 'the', 'release', 'archive', 'the', 'next', 'release', 'would', 'be', 'alpha', 'planned', 'for', 'july', 'the', 'signatures', 'for', 'the', 'release', 'can', 'be', 'found', 'in', 'the', 'manifest', 'or', 'on', 'the', 'qa', 'site', 'thank', 'you', 'for', 'helping', 'us', 'make', 'php', 'better', 'jun', 'php', 'alpha', 'released', 'php', 'team', 'is', 'glad', 'to', 'announce', 'the', 'release', 'of', 'the', 'first', 'php', 'version', 'php', 'alpha', 'this', 'starts', 'the', 'php', 'release', 'cycle', 'the', 'rough', 'outline', 'of', 'which', 'is', 'specified', 'in', 'the', 'php', 'wiki', 'for', 'source', 'downloads', 'of', 'php', 'alpha', 'please', 'visit', 'the', 'download', 'page', 'please', 'carefully', 'test', 'this', 'version', 'and', 'report', 'any', 'issues', 'found', 'in', 'the', 'bug', 'reporting', 'system', 'please', 'do', 'not', 'use', 'this', 'version', 'in', 'production', 'it', 'is', 'an', 'early', 'test', 'version', 'for', 'more', 'information', 'on', 'the', 'new', 'features', 'and', 'other', 'changes', 'you', 'can', 'read', 'the', 'news', 'file', 'or', 'the', 'upgrading', 'file', 'for', 'a', 'complete', 'list', 'of', 'upgrading', 'notes', 'these', 'files', 'can', 'also', 'be', 'found', 'in', 'the', 'release', 'archive', 'the', 'next', 'release', 'would', 'be', 'alpha', 'planned', 'for', 'june', 'the', 'signatures', 'for', 'the', 'release', 'can', 'be', 'found', 'in', 'the', 'manifest', 'or', 'on', 'the', 'qa', 'site', 'thank', 'you', 'for', 'helping', 'us', 'make', 'php', 'better', 'feb', 'php', 'released', 'the', 'php', 'development', 'team', 'announces', 'the', 'immediate', 'availability', 'of', 'php', 'this', 'is', 'a', 'bugfix', 'release', 'with', 'several', 'bug', 'fixes', 'included', 'all', 'php', 'users', 'are', 'encouraged', 'to', 'upgrade', 'to', 'this', 'version', 'for', 'source', 'downloads', 'of', 'php', 'please', 'visit', 'our', 'downloads', 'page', 'windows', 'source', 'and', 'binaries', 'can', 'be', 'found', 'on', 'windows', 'php', 'net', 'download', 'the', 'list', 'of', 'changes', 'is', 'recorded', 'in', 'the', 'changelog', 'oct', 'php', 'release', 'candidate', 'released', 'the', 'php', 'development', 'team', 'announces', 'the', 'immediate', 'availability', 'of', 'php', 'rc', 'this', 'release', 'is', 'the', 'fourth', 'release', 'candidate', 'for', 'all', 'users', 'of', 'php', 'are', 'encouraged', 'to', 'test', 'this', 'version', 'carefully', 'and', 'report', 'any', 'bugs', 'and', 'incompatibilities', 'in', 'the', 'bug', 'tracking', 'system', 'this', 'is', 'a', 'development', 'preview', 'do', 'not', 'use', 'it', 'in', 'production', 'for', 'more', 'information', 'on', 'the', 'new', 'features', 'and', 'other', 'changes', 'you', 'can', 'read', 'the', 'news', 'file', 'or', 'the', 'upgrading', 'file', 'for', 'a', 'complete', 'list', 'of', 'upgrading', 'notes', 'these', 'files', 'can', 'also', 'be', 'found', 'in', 'the', 'release', 'archive', 'for', 'source', 'downloads', 'of', 'php', 'release', 'candidate', 'please', 'visit', 'the', 'download', 'page', 'windows', 'sources', 'and', 'binaries', 'can', 'be', 'found', 'at', 'windows', 'php', 'net', 'qa', 'the', 'next', 'release', 'candidate', 'will', 'be', 'announced', 'on', 'the', 'th', 'of', 'october', 'you', 'can', 'also', 'read', 'the', 'full', 'list', 'of', 'planned', 'releases', 'on', 'our', 'wiki', 'thank', 'you', 'for', 'helping', 'us', 'make', 'php', 'better', 'sep', 'php', 'release', 'candidate', 'released', 'the', 'php', 'development', 'team', 'announces', 'the', 'immediate', 'availability', 'of', 'php', 'rc', 'this', 'release', 'is', 'the', 'third', 'release', 'candidate', 'for', 'all', 'users', 'of', 'php', 'are', 'encouraged', 'to', 'test', 'this', 'version', 'carefully', 'and', 'report', 'any', 'bugs', 'and', 'incompatibilities', 'in', 'the', 'bug', 'tracking', 'system', 'this', 'is', 'a', 'development', 'preview', 'do', 'not', 'use', 'it', 'in', 'production', 'for', 'more', 'information', 'on', 'the', 'new', 'features', 'and', 'other', 'changes', 'you', 'can', 'read', 'the', 'news', 'file', 'or', 'the', 'upgrading', 'file', 'for', 'a', 'complete', 'list', 'of', 'upgrading', 'notes', 'these', 'files', 'can', 'also', 'be', 'found', 'in', 'the', 'release', 'archive', 'for', 'source', 'downloads', 'of', 'php', 'release', 'candidate', 'please', 'visit', 'the', 'download', 'page', 'windows', 'sources', 'and', 'binaries', 'can', 'be', 'found', 'at', 'windows', 'php', 'net', 'qa', 'the', 'next', 'release', 'candidate', 'will', 'be', 'announced', 'on', 'the', 'th', 'of', 'october', 'you', 'can', 'also', 'read', 'the', 'full', 'list', 'of', 'planned', 'releases', 'on', 'our', 'wiki', 'thank', 'you', 'for', 'helping', 'us', 'make', 'php', 'better', 'aug', 'php', 'release', 'candidate', 'released', 'the', 'php', 'development', 'team', 'announces', 'the', 'immediate', 'availability', 'of', 'php', 'release', 'candidate', 'this', 'release', 'is', 'the', 'first', 'release', 'candidate', 'for', 'all', 'users', 'of', 'php', 'are', 'encouraged', 'to', 'test', 'this', 'version', 'carefully', 'and', 'report', 'any', 'bugs', 'and', 'incompatibilities', 'in', 'the', 'bug', 'tracking', 'system', 'this', 'is', 'a', 'development', 'preview', 'do', 'not', 'use', 'it', 'in', 'production', 'for', 'more', 'information', 'on', 'the', 'new', 'features', 'and', 'other', 'changes', 'you', 'can', 'read', 'the', 'news', 'file', 'or', 'the', 'upgrading', 'file', 'for', 'a', 'complete', 'list', 'of', 'upgrading', 'notes', 'these', 'files', 'can', 'also', 'be', 'found', 'in', 'the', 'release', 'archive', 'for', 'source', 'downloads', 'of', 'php', 'release', 'candidate', 'please', 'visit', 'the', 'download', 'page', 'windows', 'sources', 'and', 'binaries', 'can', 'be', 'found', 'at', 'windows', 'php', 'net', 'qa', 'the', 'second', 'release', 'candidate', 'will', 'be', 'released', 'on', 'the', 'th', 'of', 'september', 'you', 'can', 'also', 'read', 'the', 'full', 'list', 'of', 'planned', 'releases', 'on', 'our', 'wiki', 'thank', 'you', 'for', 'helping', 'us', 'make', 'php', 'better', 'aug', 'php', 'beta', 'released', 'the', 'php', 'development', 'team', 'announces', 'the', 'immediate', 'availability', 'of', 'php', 'beta', 'this', 'release', 'is', 'the', 'third', 'and', 'final', 'beta', 'for', 'all', 'users', 'of', 'php', 'are', 'encouraged', 'to', 'test', 'this', 'version', 'carefully', 'and', 'report', 'any', 'bugs', 'and', 'incompatibilities', 'in', 'the', 'bug', 'tracking', 'system', 'this', 'is', 'a', 'development', 'preview', 'do', 'not', 'use', 'it', 'in', 'production', 'for', 'more', 'information', 'on', 'the', 'new', 'features', 'and', 'other', 'changes', 'you', 'can', 'read', 'the', 'news', 'file', 'or', 'the', 'upgrading', 'file', 'for', 'a', 'complete', 'list', 'of', 'upgrading', 'notes', 'these', 'files', 'can', 'also', 'be', 'found', 'in', 'the', 'release', 'archive', 'for', 'source', 'downloads', 'of', 'php', 'beta', 'please', 'visit', 'the', 'download', 'page', 'windows', 'sources', 'and', 'binaries', 'can', 'be', 'found', 'at', 'windows', 'php', 'net', 'qa', 'the', 'first', 'release', 'candidate', 'will', 'be', 'released', 'on', 'the', 'th', 'of', 'august', 'you', 'can', 'also', 'read', 'the', 'full', 'list', 'of', 'planned', 'releases', 'on', 'our', 'wiki', 'thank', 'you', 'for', 'helping', 'us', 'make', 'php', 'better', 'jul', 'php', 'alpha', 'released', 'the', 'php', 'development', 'team', 'announces', 'the', 'immediate', 'availability', 'of', 'php', 'alpha', 'this', 'release', 'contains', 'fixes', 'and', 'improvements', 'relative', 'to', 'alpha', 'all', 'users', 'of', 'php', 'are', 'encouraged', 'to', 'test', 'this', 'version', 'carefully', 'and', 'report', 'any', 'bugs', 'and', 'incompatibilities', 'in', 'the', 'bug', 'tracking', 'system', 'this', 'is', 'a', 'development', 'preview', 'do', 'not', 'use', 'it', 'in', 'production', 'for', 'information', 'on', 'new', 'features', 'and', 'other', 'changes', 'you', 'can', 'read', 'the', 'news', 'file', 'or', 'the', 'upgrading', 'file', 'for', 'a', 'complete', 'list', 'of', 'upgrading', 'notes', 'these', 'files', 'can', 'also', 'be', 'found', 'in', 'the', 'release', 'archive', 'for', 'source', 'downloads', 'of', 'php', 'alpha', 'please', 'visit', 'the', 'download', 'page', 'windows', 'sources', 'and', 'binaries', 'can', 'be', 'found', 'on', 'windows', 'php', 'net', 'qa', 'the', 'first', 'beta', 'will', 'be', 'released', 'on', 'the', 'th', 'of', 'july', 'you', 'can', 'also', 'read', 'the', 'full', 'list', 'of', 'planned', 'releases', 'on', 'our', 'wiki', 'thank', 'you', 'for', 'helping', 'us', 'make', 'php', 'better', 'older', 'news', 'entries', 'upcoming', 'conferencesinternational', 'php', 'conference', 'spring', 'editionlonghorn', 'php', 'cfp', 'is', 'open', 'php', 'world', 'symfonycon', 'lisbon', 'user', 'group', 'events', 'special', 'thanks', 'social', 'media', 'official', 'php', 'copyright', 'the', 'php', 'group', 'my', 'php', 'net', 'contact', 'other', 'php', 'net', 'sites', 'mirror', 'sites', 'privacy', 'policy']\n"
     ]
    }
   ],
   "source": [
    "# Convert words into lower case\n",
    "words_cleaned = [word.lower() for word in words_alpha]\n",
    "print(len(words_cleaned))\n",
    "print(words_cleaned)"
   ]
  },
  {
   "cell_type": "markdown",
   "metadata": {},
   "source": [
    "**Calculate the Frequency of Words**"
   ]
  },
  {
   "cell_type": "code",
   "execution_count": 19,
   "metadata": {
    "ExecuteTime": {
     "end_time": "2018-08-24T12:09:48.530433Z",
     "start_time": "2018-08-24T12:09:48.515869Z"
    },
    "scrolled": false
   },
   "outputs": [
    {
     "name": "stdout",
     "output_type": "stream",
     "text": [
      "332\n",
      "\n",
      "\n",
      "Counter({'the': 261, 'php': 179, 'for': 91, 'of': 89, 'release': 85, 'in': 81, 'and': 68, 'can': 66, 'be': 61, 'is': 56, 'found': 56, 'this': 54, 'on': 52, 'windows': 43, 'a': 38, 'file': 37, 'you': 35, 'upgrading': 35, 'to': 34, 'please': 33, 'version': 31, 'downloads': 30, 'source': 29, 'development': 27, 'list': 27, 'changes': 27, 'page': 25, 'released': 25, 'or': 25, 'qa': 24, 'download': 23, 'net': 23, 'team': 22, 'visit': 22, 'binaries': 21, 'also': 21, 'bug': 20, 'read': 20, 'other': 18, 'beta': 18, 'alpha': 18, 'next': 17, 'are': 17, 'features': 16, 'files': 16, 'extensions': 16, 'archive': 16, 'system': 16, 'test': 16, 'news': 16, 'rc': 15, 'wiki': 15, 'carefully': 15, 'report': 15, 'any': 15, 'do': 15, 'not': 15, 'use': 15, 'it': 15, 'production': 15, 'information': 15, 'new': 15, 'complete': 15, 'notes': 15, 'these': 15, 'planned': 15, 'thank': 15, 'helping': 15, 'us': 15, 'make': 15, 'better': 15, 'sources': 14, 'preview': 14, 'more': 14, 'candidate': 14, 'announces': 12, 'immediate': 12, 'availability': 12, 'all': 12, 'users': 12, 'encouraged': 12, 'our': 12, 'th': 12, 'security': 11, 'reporting': 11, 'glad': 10, 'announce': 10, 'rough': 10, 'outline': 10, 'cycle': 10, 'specified': 10, 'issues': 10, 'would': 10, 'signatures': 10, 'manifest': 10, 'site': 10, 'g': 7, 'upgrade': 7, 'recorded': 7, 'changelog': 7, 'sep': 7, 'internal': 5, 'listed': 5, 'internals': 5, 'aug': 5, 'bugs': 5, 'incompatibilities': 5, 'tracking': 5, 'will': 5, 'full': 5, 'releases': 5, 'related': 4, 'oct': 4, 'october': 4, 'august': 4, 'first': 4, 'at': 4, 'language': 3, 'predefined': 3, 'database': 3, 'with': 3, 'services': 3, 'processing': 3, 'search': 3, 'bugfix': 3, 'pre': 3, 'one': 3, 'has': 3, 'been': 3, 'fixed': 3, 'september': 3, 'fixes': 3, 'jul': 3, 'third': 3, 'july': 3, 'help': 2, 'introduction': 2, 'reference': 2, 'basic': 2, 'variables': 2, 'control': 2, 'classes': 2, 'exceptions': 2, 'general': 2, 'installed': 2, 'as': 2, 'an': 2, 'session': 2, 'using': 2, 'user': 2, 'current': 2, 'authentication': 2, 'handling': 2, 'command': 2, 'line': 2, 's': 2, 'manipulation': 2, 'specific': 2, 'text': 2, 'web': 2, 'menu': 2, 'item': 2, 'previous': 2, 'man': 2, 'scroll': 2, 'goto': 2, 'popular': 2, 'world': 2, 'which': 2, 'contains': 2, 'several': 2, 'fourth': 2, 'jun': 2, 'second': 2, 'announced': 2, 'group': 2, 'sites': 2, 'hypertext': 1, 'preprocessor': 1, 'documentation': 1, 'get': 1, 'involved': 1, 'getting': 1, 'started': 1, 'simple': 1, 'tutorial': 1, 'syntax': 1, 'types': 1, 'constants': 1, 'expressions': 1, 'operators': 1, 'structures': 1, 'functions': 1, 'objects': 1, 'namespaces': 1, 'errors': 1, 'generators': 1, 'references': 1, 'explained': 1, 'interfaces': 1, 'context': 1, 'options': 1, 'parameters': 1, 'supported': 1, 'protocols': 1, 'wrappers': 1, 'considerations': 1, 'cgi': 1, 'binary': 1, 'apache': 1, 'module': 1, 'filesystem': 1, 'error': 1, 'register': 1, 'globals': 1, 'submitted': 1, 'data': 1, 'magic': 1, 'quotes': 1, 'hiding': 1, 'keeping': 1, 'http': 1, 'cookies': 1, 'sessions': 1, 'dealing': 1, 'xforms': 1, 'uploads': 1, 'remote': 1, 'connection': 1, 'persistent': 1, 'connections': 1, 'safe': 1, 'mode': 1, 'usage': 1, 'garbage': 1, 'collection': 1, 'dtrace': 1, 'dynamic': 1, 'tracing': 1, 'function': 1, 'affecting': 1, 'behaviour': 1, 'audio': 1, 'formats': 1, 'compression': 1, 'credit': 1, 'card': 1, 'cryptography': 1, 'date': 1, 'time': 1, 'human': 1, 'character': 1, 'encoding': 1, 'support': 1, 'image': 1, 'generation': 1, 'mail': 1, 'mathematical': 1, 'non': 1, 'mime': 1, 'output': 1, 'process': 1, 'engine': 1, 'server': 1, 'variable': 1, 'type': 1, 'only': 1, 'xml': 1, 'gui': 1, 'keyboard': 1, 'shortcuts': 1, 'j': 1, 'k': 1, 'p': 1, 'n': 1, 'bottom': 1, 'top': 1, 'h': 1, 'homepage': 1, 'focus': 1, 'box': 1, 'purpose': 1, 'scripting': 1, 'that': 1, 'especially': 1, 'suited': 1, 'fast': 1, 'flexible': 1, 'pragmatic': 1, 'powers': 1, 'everything': 1, 'from': 1, 'your': 1, 'blog': 1, 'most': 1, 'websites': 1, 'minor': 1, 'seventh': 1, 'sixth': 1, 'fifth': 1, 'nd': 1, 'starts': 1, 'early': 1, 'june': 1, 'feb': 1, 'included': 1, 'final': 1, 'improvements': 1, 'relative': 1, 'older': 1, 'entries': 1, 'upcoming': 1, 'conferencesinternational': 1, 'conference': 1, 'spring': 1, 'editionlonghorn': 1, 'cfp': 1, 'open': 1, 'symfonycon': 1, 'lisbon': 1, 'events': 1, 'special': 1, 'thanks': 1, 'social': 1, 'media': 1, 'official': 1, 'copyright': 1, 'my': 1, 'contact': 1, 'mirror': 1, 'privacy': 1, 'policy': 1})\n"
     ]
    }
   ],
   "source": [
    "# Word Frequencies\n",
    "from collections import Counter\n",
    "word_freq_counter = Counter(words_cleaned)\n",
    "print(str(len(word_freq_counter))+\"\\n\\n\") \n",
    "print(word_freq_counter)"
   ]
  },
  {
   "cell_type": "code",
   "execution_count": 20,
   "metadata": {
    "ExecuteTime": {
     "end_time": "2018-08-24T12:09:48.551434Z",
     "start_time": "2018-08-24T12:09:48.536797Z"
    }
   },
   "outputs": [
    {
     "name": "stdout",
     "output_type": "stream",
     "text": [
      "[('the', 261), ('php', 179), ('for', 91), ('of', 89), ('release', 85), ('in', 81), ('and', 68), ('can', 66), ('be', 61), ('is', 56), ('found', 56), ('this', 54), ('on', 52), ('windows', 43), ('a', 38), ('file', 37), ('you', 35), ('upgrading', 35), ('to', 34), ('please', 33), ('version', 31), ('downloads', 30), ('source', 29), ('development', 27), ('list', 27), ('changes', 27), ('page', 25), ('released', 25), ('or', 25), ('qa', 24)]\n"
     ]
    }
   ],
   "source": [
    "print(word_freq_counter.most_common(30))"
   ]
  },
  {
   "cell_type": "markdown",
   "metadata": {},
   "source": [
    "# Convert to Dictionary for Use in Pandas Dataframe"
   ]
  },
  {
   "cell_type": "code",
   "execution_count": 22,
   "metadata": {
    "ExecuteTime": {
     "end_time": "2018-08-24T12:09:48.566035Z",
     "start_time": "2018-08-24T12:09:48.557080Z"
    }
   },
   "outputs": [
    {
     "name": "stdout",
     "output_type": "stream",
     "text": [
      "{'php': 179, 'hypertext': 1, 'preprocessor': 1, 'downloads': 30, 'documentation': 1, 'get': 1, 'involved': 1, 'help': 2, 'getting': 1, 'started': 1, 'introduction': 2, 'a': 38, 'simple': 1, 'tutorial': 1, 'language': 3, 'reference': 2, 'basic': 2, 'syntax': 1, 'types': 1, 'variables': 2, 'constants': 1, 'expressions': 1, 'operators': 1, 'control': 2, 'structures': 1, 'functions': 1, 'classes': 2, 'and': 68, 'objects': 1, 'namespaces': 1, 'errors': 1, 'exceptions': 2, 'generators': 1, 'references': 1, 'explained': 1, 'predefined': 3, 'interfaces': 1, 'context': 1, 'options': 1, 'parameters': 1, 'supported': 1, 'protocols': 1, 'wrappers': 1, 'security': 11, 'general': 2, 'considerations': 1, 'installed': 2, 'as': 2, 'cgi': 1, 'binary': 1, 'an': 2, 'apache': 1, 'module': 1, 'session': 2, 'filesystem': 1, 'database': 3, 'error': 1, 'reporting': 11, 'using': 2, 'register': 1, 'globals': 1, 'user': 2, 'submitted': 1, 'data': 1, 'magic': 1, 'quotes': 1, 'hiding': 1, 'keeping': 1, 'current': 2, 'features': 16, 'http': 1, 'authentication': 2, 'with': 3, 'cookies': 1, 'sessions': 1, 'dealing': 1, 'xforms': 1, 'handling': 2, 'file': 37, 'uploads': 1, 'remote': 1, 'files': 16, 'connection': 1, 'persistent': 1, 'connections': 1, 'safe': 1, 'mode': 1, 'command': 2, 'line': 2, 'usage': 1, 'garbage': 1, 'collection': 1, 'dtrace': 1, 'dynamic': 1, 'tracing': 1, 'function': 1, 'affecting': 1, 's': 2, 'behaviour': 1, 'audio': 1, 'formats': 1, 'manipulation': 2, 'services': 3, 'specific': 2, 'extensions': 16, 'compression': 1, 'archive': 16, 'credit': 1, 'card': 1, 'processing': 3, 'cryptography': 1, 'date': 1, 'time': 1, 'related': 4, 'system': 16, 'human': 1, 'character': 1, 'encoding': 1, 'support': 1, 'image': 1, 'generation': 1, 'mail': 1, 'mathematical': 1, 'non': 1, 'text': 2, 'mime': 1, 'output': 1, 'process': 1, 'other': 18, 'search': 3, 'engine': 1, 'server': 1, 'variable': 1, 'type': 1, 'web': 2, 'windows': 43, 'only': 1, 'xml': 1, 'gui': 1, 'keyboard': 1, 'shortcuts': 1, 'this': 54, 'j': 1, 'next': 17, 'menu': 2, 'item': 2, 'k': 1, 'previous': 2, 'g': 7, 'p': 1, 'man': 2, 'page': 25, 'n': 1, 'scroll': 2, 'to': 34, 'bottom': 1, 'top': 1, 'h': 1, 'goto': 2, 'homepage': 1, 'focus': 1, 'box': 1, 'is': 56, 'popular': 2, 'purpose': 1, 'scripting': 1, 'that': 1, 'especially': 1, 'suited': 1, 'development': 27, 'fast': 1, 'flexible': 1, 'pragmatic': 1, 'powers': 1, 'everything': 1, 'from': 1, 'your': 1, 'blog': 1, 'the': 261, 'most': 1, 'websites': 1, 'in': 81, 'world': 2, 'download': 23, 'oct': 4, 'released': 25, 'team': 22, 'announces': 12, 'immediate': 12, 'availability': 12, 'of': 89, 'bugfix': 3, 'release': 85, 'all': 12, 'users': 12, 'are': 17, 'encouraged': 12, 'upgrade': 7, 'version': 31, 'for': 91, 'source': 29, 'please': 33, 'visit': 22, 'our': 12, 'binaries': 21, 'can': 66, 'be': 61, 'found': 56, 'on': 52, 'net': 23, 'list': 27, 'changes': 27, 'recorded': 7, 'changelog': 7, 'rc': 15, 'glad': 10, 'announce': 10, 'pre': 3, 'rough': 10, 'outline': 10, 'cycle': 10, 'specified': 10, 'wiki': 15, 'sources': 14, 'qa': 24, 'carefully': 15, 'test': 16, 'report': 15, 'any': 15, 'issues': 10, 'bug': 20, 'preview': 14, 'do': 15, 'not': 15, 'use': 15, 'it': 15, 'production': 15, 'more': 14, 'information': 15, 'new': 15, 'you': 35, 'read': 20, 'news': 16, 'or': 25, 'upgrading': 35, 'complete': 15, 'notes': 15, 'internal': 5, 'listed': 5, 'internals': 5, 'these': 15, 'also': 21, 'would': 10, 'planned': 15, 'october': 4, 'th': 12, 'signatures': 10, 'manifest': 10, 'site': 10, 'thank': 15, 'helping': 15, 'us': 15, 'make': 15, 'better': 15, 'sep': 7, 'one': 3, 'has': 3, 'been': 3, 'fixed': 3, 'september': 3, 'which': 2, 'contains': 2, 'several': 2, 'minor': 1, 'fixes': 3, 'aug': 5, 'beta': 18, 'seventh': 1, 'sixth': 1, 'august': 4, 'fifth': 1, 'jul': 3, 'alpha': 18, 'fourth': 2, 'nd': 1, 'third': 3, 'july': 3, 'jun': 2, 'second': 2, 'first': 4, 'starts': 1, 'early': 1, 'june': 1, 'feb': 1, 'included': 1, 'candidate': 14, 'bugs': 5, 'incompatibilities': 5, 'tracking': 5, 'at': 4, 'will': 5, 'announced': 2, 'full': 5, 'releases': 5, 'final': 1, 'improvements': 1, 'relative': 1, 'older': 1, 'entries': 1, 'upcoming': 1, 'conferencesinternational': 1, 'conference': 1, 'spring': 1, 'editionlonghorn': 1, 'cfp': 1, 'open': 1, 'symfonycon': 1, 'lisbon': 1, 'group': 2, 'events': 1, 'special': 1, 'thanks': 1, 'social': 1, 'media': 1, 'official': 1, 'copyright': 1, 'my': 1, 'contact': 1, 'sites': 2, 'mirror': 1, 'privacy': 1, 'policy': 1}\n"
     ]
    }
   ],
   "source": [
    "word_freq_dict = dict(word_freq_counter)\n",
    "print(word_freq_dict)"
   ]
  },
  {
   "cell_type": "markdown",
   "metadata": {},
   "source": [
    "# Using nltk: Frequency Distribution"
   ]
  },
  {
   "cell_type": "code",
   "execution_count": 23,
   "metadata": {},
   "outputs": [],
   "source": [
    "import nltk"
   ]
  },
  {
   "cell_type": "code",
   "execution_count": 24,
   "metadata": {},
   "outputs": [],
   "source": [
    "from nltk.probability import FreqDist"
   ]
  },
  {
   "cell_type": "code",
   "execution_count": 28,
   "metadata": {},
   "outputs": [
    {
     "data": {
      "text/plain": [
       "FreqDist({'the': 261, 'php': 179, 'for': 91, 'of': 89, 'release': 85, 'in': 81, 'and': 68, 'can': 66, 'be': 61, 'is': 56, ...})"
      ]
     },
     "execution_count": 28,
     "metadata": {},
     "output_type": "execute_result"
    }
   ],
   "source": [
    "FreqDist(words_cleaned)"
   ]
  },
  {
   "cell_type": "code",
   "execution_count": null,
   "metadata": {},
   "outputs": [],
   "source": []
  },
  {
   "cell_type": "code",
   "execution_count": null,
   "metadata": {},
   "outputs": [],
   "source": []
  }
 ],
 "metadata": {
  "kernelspec": {
   "display_name": "Python 3",
   "language": "python",
   "name": "python3"
  },
  "language_info": {
   "codemirror_mode": {
    "name": "ipython",
    "version": 3
   },
   "file_extension": ".py",
   "mimetype": "text/x-python",
   "name": "python",
   "nbconvert_exporter": "python",
   "pygments_lexer": "ipython3",
   "version": "3.6.6"
  },
  "latex_envs": {
   "LaTeX_envs_menu_present": true,
   "autoclose": false,
   "autocomplete": true,
   "bibliofile": "biblio.bib",
   "cite_by": "apalike",
   "current_citInitial": 1,
   "eqLabelWithNumbers": true,
   "eqNumInitial": 1,
   "hotkeys": {
    "equation": "Ctrl-E",
    "itemize": "Ctrl-I"
   },
   "labels_anchors": false,
   "latex_user_defs": false,
   "report_style_numbering": false,
   "user_envs_cfg": false
  },
  "toc": {
   "base_numbering": 1,
   "nav_menu": {},
   "number_sections": true,
   "sideBar": true,
   "skip_h1_title": false,
   "title_cell": "Table of Contents",
   "title_sidebar": "Contents",
   "toc_cell": false,
   "toc_position": {},
   "toc_section_display": true,
   "toc_window_display": false
  }
 },
 "nbformat": 4,
 "nbformat_minor": 2
}
